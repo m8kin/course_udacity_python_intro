{
 "cells": [
  {
   "cell_type": "markdown",
   "metadata": {},
   "source": [
    "### WEB CRAWLER\n",
    "\n",
    "HTML source code is composed of nested tags. \n",
    "- title> the title\n",
    "- div> the division with an id as the title\n",
    "- p> paragraph\n",
    "- img> image tag used to embed images\n",
    "- a> anchor tags used to create links\n",
    "\n",
    "```html\n",
    "<title>My Website</title>\n",
    "<div id=\"introduction\">\n",
    "  <p>\n",
    "    Welcome to my website!\n",
    "  </p>\n",
    "</div>    \n",
    "<div id=\"image-gallery\">\n",
    "  <p>\n",
    "    This is my cat!\n",
    "    <img src=\"cat.jpg\" alt=\"Meow!\">\n",
    "    <a href=\"https://en.wikipedia.org/wiki/Cat\">Learn more about cats!</a>\n",
    "  </p>\n",
    "</div>\n",
    "```\n",
    "\n",
    "#### PACKAGES\n",
    "- requests: is used to request HTML from a web page\n",
    "- beautifulsoup4: is used to parse out HTML text\n",
    "\n",
    "This may need to be run in the anaconda terminal\n",
    "```\n",
    "conda install -c anaconda beautifulsoup4\n",
    "```"
   ]
  },
  {
   "cell_type": "code",
   "execution_count": 17,
   "metadata": {},
   "outputs": [],
   "source": [
    "import requests\n",
    "from bs4 import BeautifulSoup as bs"
   ]
  },
  {
   "cell_type": "code",
   "execution_count": 20,
   "metadata": {},
   "outputs": [
    {
     "name": "stdout",
     "output_type": "stream",
     "text": [
      "<class 'str'>\n",
      "\n",
      "<!DOCTYPE html>\n",
      "<html class=\"client-nojs\" lang=\"en\" dir=\"ltr\">\n",
      "<head>\n",
      "<meta charset=\"UTF-8\"/>\n",
      "<title>Pythonidae - Wikipedia</title>\n",
      "<script>document.documentElement.className=\"client-js\";RLCONF={\"wgBreakFrames\":!1,\"wgSeparatorTransformTable\":[\"\",\"\"],\"wgDigitTransformTable\":[\"\",\"\"],\"wgDefaultDateFormat\":\"dmy\",\"wgMonthNames\":[\"\",\"January\",\"February\",\"March\",\"April\",\"May\",\"June\",\"July\",\"August\",\"September\",\"October\",\"November\",\"December\"],\"wgRequestId\":\"XsOr@gpAMMAAAA4GbZAAAACI\",\"wgCSPNonce\":!1,\"wgCanonicalNamespace\":\"\",\"wgCanonicalSpecialPageName\":!1,\"wgNamespaceNumber\":0,\"wgPageName\":\"Pythonidae\",\"wgTitle\":\"Pythonidae\",\"wgCurRevisionId\":956448328,\"wgRevisionId\":956448328,\"wgArticleId\":23329,\"wgIsArticle\":!0,\"wgIsRedirect\":!1,\"wgAction\":\"view\",\"wgUserName\":null,\"wgUserGroups\":[\"*\"],\"wgCategories\":[\"CS1: long volume value\",\"Articles with short description\",\"Articles with 'species' microformats\",\"Pythonidae\",\"Snake families\",\"Taxa named by Leopold Fitzinger\"],\"wgPageContentLanguage\":\"en\",\"wgPageContentModel\":\"wikitext\",\"wgRelevantPageName\":\"Pythonidae\",\"wgRelevantArticleId\":23329,\"wgIsProbablyEditable\":!0,\n",
      "\"wgRelevantPageIsProbablyEditable\":!0,\"wgRestrictionEdit\":[],\"wgRestrictionMove\":[],\"wgMediaViewerOnClick\":!0,\"wgMediaViewerEnabledByDefault\":!0,\"wgPopupsReferencePreviews\":!1,\"wgPopupsConflictsWithNavPopupGadget\":!1,\"wgVisualEditor\":{\"pageLanguageCode\":\"en\",\"pageLanguageDir\":\"ltr\",\"pageVariantFallbacks\":\"en\"},\"wgMFDisplayWikibaseDescriptions\":{\"search\":!0,\"nearby\":!0,\"watchlist\":!0,\"tagline\":!1},\"wgWMESchemaEditAttemptStepOversample\":!1,\"wgULSCurrentAutonym\":\"English\",\"wgNoticeProject\":\"wikipedia\",\"wgWikibaseItemId\":\"Q184018\",\"wgCentralAuthMobileDomain\":!1,\"wgEditSubmitButtonLabelPublish\":!0};RLSTATE={\"ext.globalCssJs.user.styles\":\"ready\",\"site.styles\":\"ready\",\"noscript\":\"ready\",\"user.styles\":\"ready\",\"ext.globalCssJs.user\":\"ready\",\"user\":\"ready\",\"user.options\":\"loading\",\"ext.cite.styles\":\"ready\",\"jquery.makeCollapsible.styles\":\"ready\",\"mediawiki.toc.styles\":\"ready\",\n"
     ]
    }
   ],
   "source": [
    "# use GET from REQUESTS\n",
    "# use .TEXT to access the HTML text\n",
    "# PRINT for 2000 characters from HTML\n",
    "\n",
    "response = requests.get('https://en.wikipedia.org/wiki/Pythonidae')\n",
    "print(type(response.text))\n",
    "print(response.text[0:2000])"
   ]
  },
  {
   "cell_type": "code",
   "execution_count": 28,
   "metadata": {},
   "outputs": [
    {
     "name": "stdout",
     "output_type": "stream",
     "text": [
      "<!DOCTYPE html>\n",
      "<html class=\"client-nojs\" dir=\"ltr\" lang=\"en\">\n",
      " <head>\n",
      "  <meta charset=\"utf-8\"/>\n",
      "  <title>\n",
      "   Pythonidae - Wikipedia\n",
      "  </title>\n",
      "  <script>\n",
      "   document.documentElement.className=\"client-js\";RLCONF={\"wgBreakFrames\":!1,\"wgSeparatorTransformTable\":[\"\",\"\"],\"wgDigitTransformTable\":[\"\",\"\"],\"wgDefaultDateFormat\":\"dmy\",\"wgMonthNames\":[\"\",\"January\",\"February\",\"March\",\"April\",\"May\",\"June\",\"July\",\"August\",\"September\",\"October\",\"November\",\"December\"],\"wgRequestId\":\"XsOr@gpAMMAAAA4GbZAAAACI\",\"wgCSPNonce\":!1,\"wgCanonicalNamespace\":\"\",\"wgCanonicalSpecialPageName\":!1,\"wgNamespaceNumber\":0,\"wgPageName\":\"Pythonidae\",\"wgTitle\":\"Pythonidae\",\"wgCurRevisionId\":956448328,\"wgRevisionId\":956448328,\"wgArticleId\":23329,\"wgIsArticle\":!0,\"wgIsRedirect\":!1,\"wgAction\":\"view\",\"wgUserName\":null,\"wgUserGroups\":[\"*\"],\"wgCategories\":[\"CS1: long volume value\",\"Articles with short description\",\"Articles with 'species' microformats\",\"Pythonidae\",\"Snake families\",\"Taxa named by Leopold Fitzinger\"],\"wgPageContentLanguage\":\"en\",\"wgPageContentModel\":\"wikitext\",\"wgRelevantPageName\":\"Pythonidae\",\"wgRelevantArticleId\":23329,\"wgIsProbablyEditable\":!0,\n",
      "\"wgRelevantPageIsProbablyEditable\":!0,\"wgRestrictionEdit\":[],\"wgRestrictionMove\":[],\"wgMediaViewerOnClick\":!0,\"wgMediaViewerEnabledByDefault\":!0,\"wgPopupsReferencePreviews\":!1,\"wgPopupsConflictsWithNavPopupGadget\":!1,\"wgVisualEditor\":{\"pageLanguageCode\":\"en\",\"pageLanguageDir\":\"ltr\",\"pageVariantFallbacks\":\"en\"},\"wgMFDisplayWikibaseDescriptions\":{\"search\":!0,\"nearby\":!0,\"watchlist\":!0,\"tagline\":!1},\"wgWMESchemaEditAttemptStepOversample\":!1,\"wgULSCurrentAutonym\":\"English\",\"wgNoticeProject\":\"wikipedia\",\"wgWikibaseItemId\":\"Q184018\",\"wgCentralAuthMobileDomain\":!1,\"wgEditSubmitButtonLabelPublish\":!0};RLSTATE={\"ext.globalCssJs.user.styles\":\"ready\",\"site.styles\":\"ready\",\"noscript\":\"ready\",\"user.styles\":\"ready\",\"ext.globalCssJs.user\":\"ready\",\"user\":\"ready\",\"user.options\":\"loading\",\"ext.cite.styles\":\"ready\",\"jquery.makeCollapsible.styles\":\"ready\",\"mediawiki.toc\n"
     ]
    }
   ],
   "source": [
    "# create a BeautifulSoup OBJECT\n",
    "# there are many METHODS such as prettify\n",
    "# print it as a string and first 2000 characters\n",
    "\n",
    "soup = bs(response.text, 'html.parser')\n",
    "print(str(soup.prettify())[0:2000])"
   ]
  },
  {
   "cell_type": "code",
   "execution_count": 32,
   "metadata": {},
   "outputs": [
    {
     "name": "stdout",
     "output_type": "stream",
     "text": [
      "<title>Pythonidae - Wikipedia</title>\n",
      "Pythonidae - Wikipedia\n"
     ]
    }
   ],
   "source": [
    "# Navigate the SOUP\n",
    "\n",
    "print(soup.title)\n",
    "print(soup.title.string)"
   ]
  },
  {
   "cell_type": "code",
   "execution_count": 45,
   "metadata": {},
   "outputs": [
    {
     "data": {
      "text/plain": [
       "[<p class=\"mw-empty-elt\">\n",
       " </p>,\n",
       " <p>The <b>Pythonidae</b>, commonly known as <b>pythons</b>, are a <a href=\"/wiki/Family_(biology)\" title=\"Family (biology)\">family</a> of <a href=\"/wiki/Venomous_snake\" title=\"Venomous snake\">nonvenomous</a> <a href=\"/wiki/Snake\" title=\"Snake\">snakes</a> found in Africa, Asia, and Australia. Among its members are some of the largest snakes in the world. Nine <a href=\"/wiki/Genus\" title=\"Genus\">genera</a> and 40 <a href=\"/wiki/Species\" title=\"Species\">species</a> are currently recognized.<sup class=\"reference\" id=\"cite_ref-ITIS_2-0\"><a href=\"#cite_note-ITIS-2\">[2]</a></sup>\n",
       " </p>,\n",
       " <p>Pythons are found in <a href=\"/wiki/Sub-Saharan_Africa\" title=\"Sub-Saharan Africa\">sub-Saharan Africa</a>, <a href=\"/wiki/Nepal\" title=\"Nepal\">Nepal</a>, <a href=\"/wiki/India\" title=\"India\">India</a>, <a href=\"/wiki/Sri_Lanka\" title=\"Sri Lanka\">Sri Lanka</a>, <a class=\"mw-redirect\" href=\"/wiki/Burma\" title=\"Burma\">Burma</a>, southern China, Southeast Asia, and from the <a href=\"/wiki/Philippines\" title=\"Philippines\">Philippines</a> southeast through <a href=\"/wiki/Indonesia\" title=\"Indonesia\">Indonesia</a> to <a href=\"/wiki/New_Guinea\" title=\"New Guinea\">New Guinea</a> and <a href=\"/wiki/Australia\" title=\"Australia\">Australia</a>.<sup class=\"reference\" id=\"cite_ref-McD99_1-1\"><a href=\"#cite_note-McD99-1\">[1]</a></sup>\n",
       " </p>,\n",
       " <p>In the United States, an introduced population of <a href=\"/wiki/Burmese_python\" title=\"Burmese python\">Burmese pythons</a>, <i>Python molurus bivittatus</i>, has existed as an <a href=\"/wiki/Invasive_species\" title=\"Invasive species\">invasive species</a> in the <a href=\"/wiki/Everglades_National_Park\" title=\"Everglades National Park\">Everglades National Park</a> since the late 1990s.<sup class=\"reference\" id=\"cite_ref-NGeo_3-0\"><a href=\"#cite_note-NGeo-3\">[3]</a></sup>\n",
       " </p>,\n",
       " <p>Many species have been hunted aggressively, which has greatly reduced the population of some, such as the Indian python, <i><a href=\"/wiki/Python_molurus\" title=\"Python molurus\">Python molurus</a></i>.\n",
       " </p>,\n",
       " <p>Most members of this family are <a href=\"/wiki/Ambush_predator\" title=\"Ambush predator\">ambush predators</a>, in that they typically remain motionless in a camouflaged position, and then strike suddenly at passing prey.  Attacks on humans, although known to occur, are extremely rare.<sup class=\"reference\" id=\"cite_ref-Wang_4-0\"><a href=\"#cite_note-Wang-4\">[4]</a></sup><sup class=\"reference\" id=\"cite_ref-5\"><a href=\"#cite_note-5\">[5]</a></sup>\n",
       " </p>,\n",
       " <p>Pythons use their sharp, backward-curving teeth, four rows in the upper jaw, two in the lower, to grasp prey which is then killed by <a href=\"/wiki/Constriction\" title=\"Constriction\">constriction</a>; after an animal has been grasped to restrain it, the python quickly wraps a number of coils around it. Death occurs primarily by cardiac arrest.<sup class=\"reference\" id=\"cite_ref-6\"><a href=\"#cite_note-6\">[6]</a></sup><sup class=\"reference\" id=\"cite_ref-7\"><a href=\"#cite_note-7\">[7]</a></sup>\n",
       " </p>,\n",
       " <p>Larger specimens usually eat animals about the size of a house cat, but larger food items are known; some large Asian species have been known to take down adult <a href=\"/wiki/Deer\" title=\"Deer\">deer</a>, and the African rock python, <i><a class=\"mw-redirect\" href=\"/wiki/Python_sebae\" title=\"Python sebae\">Python sebae</a></i>, has been known to eat <a href=\"/wiki/Antelope\" title=\"Antelope\">antelope</a>. In 2017, there was a recorded case of a <a href=\"/wiki/Human\" title=\"Human\">human</a> devoured by a python in <a href=\"/wiki/Sulawesi\" title=\"Sulawesi\">Sulawesi</a>, <a href=\"/wiki/Indonesia\" title=\"Indonesia\">Indonesia</a>.<sup class=\"reference\" id=\"cite_ref-8\"><a href=\"#cite_note-8\">[8]</a></sup> All prey is swallowed whole, and may take several days or even weeks to fully digest.\n",
       " </p>,\n",
       " <p>Contrary to popular belief, even the larger species, such as the reticulated python, <i><a class=\"mw-redirect\" href=\"/wiki/Python_reticulatus\" title=\"Python reticulatus\">P. reticulatus</a></i>, do not crush their prey to death; in fact, prey is not even noticeably deformed before it is swallowed. The speed with which the coils are applied is impressive and the force they exert may be significant, but death is caused by cardiac arrest.\n",
       " </p>,\n",
       " <p>Pythons are <a class=\"mw-redirect\" href=\"/wiki/Oviparous\" title=\"Oviparous\">oviparous</a>, that is, they lay eggs. This sets them apart from the family <a href=\"/wiki/Boidae\" title=\"Boidae\">Boidae</a> (boas), most of which bear live young (<a class=\"mw-redirect\" href=\"/wiki/Ovoviviparous\" title=\"Ovoviviparous\">ovoviviparous</a>). After they lay their eggs, females typically incubate them until they hatch. This is achieved by causing the muscles to \"shiver\", which raises the temperature of the body to a certain degree, and thus that of the eggs. Keeping the eggs at a constant temperature is essential for healthy embryo development. During the incubation period, females do not eat and leave only to bask to raise their body temperature.\n",
       " </p>,\n",
       " <p>Most species in this family are available in the exotic pet trade. However, caution must be exercised with the larger species, as they can be dangerous; rare cases of large specimens killing their owners have been documented.<sup class=\"reference\" id=\"cite_ref-Anapsid_9-0\"><a href=\"#cite_note-Anapsid-9\">[9]</a></sup><sup class=\"reference\" id=\"cite_ref-10\"><a href=\"#cite_note-10\">[10]</a></sup>\n",
       " </p>,\n",
       " <p>Obsolete classification schemes—such as that of <a href=\"/wiki/George_Albert_Boulenger\" title=\"George Albert Boulenger\">Boulenger</a> (1890)—place pythons in <a class=\"mw-redirect\" href=\"/wiki/Pythoninae\" title=\"Pythoninae\">Pythoninae</a>, a <a href=\"/wiki/Subfamily\" title=\"Subfamily\">subfamily</a> of the boa family, <a href=\"/wiki/Boidae\" title=\"Boidae\">Boidae</a>.<sup class=\"reference\" id=\"cite_ref-McD99_1-2\"><a href=\"#cite_note-McD99-1\">[1]</a></sup> However, despite a superficial resemblance to boas, pythons are more closely related to sunbeam snakes (<i><a href=\"/wiki/Xenopeltis\" title=\"Xenopeltis\">Xenopeltis</a></i>) and burrowing pythons (<i><a href=\"/wiki/Loxocemus\" title=\"Loxocemus\">Loxocemus</a></i>).<sup class=\"reference\" id=\"cite_ref-11\"><a href=\"#cite_note-11\">[11]</a></sup><sup class=\"reference\" id=\"cite_ref-12\"><a href=\"#cite_note-12\">[12]</a></sup>\n",
       " </p>,\n",
       " <p><a href=\"/wiki/Poaching\" title=\"Poaching\">Poaching</a> of pythons is a lucrative business with the global python skin trade being an estimated US$1 billion as of 2012.<sup class=\"reference\" id=\"cite_ref-16\"><a href=\"#cite_note-16\">[14]</a></sup> Pythons are poached for their meat, mostly consumed locally as <a href=\"/wiki/Bushmeat\" title=\"Bushmeat\">bushmeat</a> and their skin, which is sent to Europe and North America for manufacture of accessories like bags, belts and shoes.<sup class=\"reference\" id=\"cite_ref-Jensen_2017_17-0\"><a href=\"#cite_note-Jensen_2017-17\">[15]</a></sup> The demand for poaching is increased because python farming is very expensive.<sup class=\"reference\" id=\"cite_ref-18\"><a href=\"#cite_note-18\">[16]</a></sup>\n",
       " </p>,\n",
       " <p>Python poaching in Africa occurs for <a href=\"/wiki/Bushmeat\" title=\"Bushmeat\">bushmeat</a>, usually for local use, and for skin, which is traded internationally for accessories.  In <a href=\"/wiki/Cameroon\" title=\"Cameroon\">Cameroon</a> bushmeat markets, the <a href=\"/wiki/African_rock_python\" title=\"African rock python\">African Rock Python</a> is commonly sold for meat and is very expensive at US$175.<sup class=\"reference\" id=\"cite_ref-Jensen_2017_17-1\"><a href=\"#cite_note-Jensen_2017-17\">[15]</a></sup>  The poaching of the pythons is illegal in <a href=\"/wiki/Cameroon\" title=\"Cameroon\">Cameroon</a> under their wildlife law, but there is little to no enforcement.  In <a href=\"/wiki/Kenya\" title=\"Kenya\">Kenya</a>, there has been an increase in snake farms to address the demand for <a href=\"/wiki/Snakeskin\" title=\"Snakeskin\">snake skin</a> internationally, but there are health concerns for the workers, and danger due to poachers coming to the farms to hunt the snakes.<sup class=\"reference\" id=\"cite_ref-19\"><a href=\"#cite_note-19\">[17]</a></sup>\n",
       " </p>,\n",
       " <p>While pythons are not venomous, they do carry a host of potential health issues for humans. Pythons are disease vectors for multiple illness, including <a href=\"/wiki/Salmonellosis\" title=\"Salmonellosis\">Salmonella</a>, <a class=\"mw-redirect\" href=\"/wiki/Chlamydia_infection\" title=\"Chlamydia infection\">Chlamydia</a>, <a href=\"/wiki/Leptospirosis\" title=\"Leptospirosis\">Leptospirosis</a>, <a class=\"new\" href=\"/w/index.php?title=Aeromoniasis&amp;action=edit&amp;redlink=1\" title=\"Aeromoniasis (page does not exist)\">Aeromoniasis</a>, <a href=\"/wiki/Campylobacteriosis\" title=\"Campylobacteriosis\">Campylobacteriosis</a>, and <a href=\"/wiki/Zygomycosis\" title=\"Zygomycosis\">Zygomycosis</a>. These diseases may be transmitted to humans through excreted waste, open wounds, and contaminated water.<sup class=\"reference\" id=\"cite_ref-20\"><a href=\"#cite_note-20\">[18]</a></sup><sup class=\"reference\" id=\"cite_ref-21\"><a href=\"#cite_note-21\">[19]</a></sup> A 2013 study found that Reptile-Associated Salmonella (RAS) is most common in young children who had been in contact with invasive pythons, with symptoms including \"<a href=\"/wiki/Sepsis\" title=\"Sepsis\">sepsis</a>, <a href=\"/wiki/Meningitis\" title=\"Meningitis\">meningitis</a>, and bone and joint infection\".<sup class=\"reference\" id=\"cite_ref-22\"><a href=\"#cite_note-22\">[20]</a></sup>\n",
       " </p>,\n",
       " <p>Pythons are also integrated into some aspects of African health and belief use, often with the added risk of contacting zoonotic diseases.  Python bodies and blood are used for African traditional medicines and other belief uses as well, one in-depth study of all animals used by the Yorubas of Nigeria for traditional medicine found that the African Python is used to cure rheumatism, snake poison, appeasing witches, and accident prevention.<sup class=\"reference\" id=\"cite_ref-Soewu_2008_23-0\"><a href=\"#cite_note-Soewu_2008-23\">[21]</a></sup>\n",
       " </p>,\n",
       " <p>Python habitats, diets, and invasion into new areas also impacts human health and prosperity. A University of Florida Institute of Food and Agriculture Sciences found that the Burmese Python, as an invasive species, enters new habitats and eats an increasing number of mammals, leaving limited species for mosquitoes to bite, forcing them to bite disease-carrying <a href=\"/wiki/Hispid_cotton_rat\" title=\"Hispid cotton rat\">hispid cotton rats</a> and then infect humans with the <a href=\"/wiki/Everglades_virus\" title=\"Everglades virus\">Everglades Virus</a>, a dangerous infection that is carried by very few animals.<sup class=\"reference\" id=\"cite_ref-24\"><a href=\"#cite_note-24\">[22]</a></sup> While direct human-python interactions can be potentially dangerous, the risk of zoonotic diseases is always a concern, whether considering medical and belief use in Nigeria or when addressing invasive species impacts in Florida.\n",
       " </p>,\n",
       " <p>Python skin has traditionally been used as the attire of choice for medicine men and healers.<sup class=\"reference\" id=\"cite_ref-AlexanderMoshoeu2016_25-0\"><a href=\"#cite_note-AlexanderMoshoeu2016-25\">[23]</a></sup> Typically, <a href=\"/wiki/South_Africa\" title=\"South Africa\">South African</a> <a href=\"/wiki/Zulu_people\" title=\"Zulu people\">Zulu</a> traditional healers will use python skin in ceremonial regalia.<sup class=\"reference\" id=\"cite_ref-AlexanderMoshoeu2016_25-1\"><a href=\"#cite_note-AlexanderMoshoeu2016-25\">[23]</a></sup> Pythons are viewed by the Zulu tradition to be a sign of power. This is likely why the skin is worn by traditional healers. Healers are seen as all powerful since they have a wealth of knowledge, as well as accesbility to the ancestors.<sup class=\"reference\" id=\"cite_ref-AlexanderMoshoeu2016_25-2\"><a href=\"#cite_note-AlexanderMoshoeu2016-25\">[23]</a></sup>\n",
       " </p>,\n",
       " <p>Typically, species are attributed to healing various ailments based on their likeliness to a specific bodily attribute. For example, in many cultures, the python is seen as a strong and powerful creature. As a result, pythons are often prescribed as a method of increasing strength.<sup class=\"reference\" id=\"cite_ref-AlexanderMoshoeu2016_25-3\"><a href=\"#cite_note-AlexanderMoshoeu2016-25\">[23]</a></sup> It is very common for the body fat of pythons to be used to treat a large variation of issues such as <a class=\"mw-redirect\" href=\"/wiki/Joint_pain\" title=\"Joint pain\">joint pain</a>, <a href=\"/wiki/Rheumatism\" title=\"Rheumatism\">rheumatic pain</a>, <a href=\"/wiki/Toothache\" title=\"Toothache\">toothache</a> and <a class=\"mw-redirect\" href=\"/wiki/Eye_sight\" title=\"Eye sight\">eye sight</a>.<sup class=\"reference\" id=\"cite_ref-:2_26-0\"><a href=\"#cite_note-:2-26\">[24]</a></sup> Additionally, python fat has been used to treat those suffering from mental illnesses like <a href=\"/wiki/Psychosis\" title=\"Psychosis\">psychosis</a>.<sup class=\"reference\" id=\"cite_ref-KajawuChingarande2015_27-0\"><a href=\"#cite_note-KajawuChingarande2015-27\">[25]</a></sup> Their calm nature is thought to be of use to treat combative patients. The fat of the python is rubbed onto the body part that is in pain. To improve mental illnesses, it is often rubbed on the temple.<sup class=\"reference\" id=\"cite_ref-:2_26-1\"><a href=\"#cite_note-:2-26\">[24]</a></sup>\n",
       " </p>,\n",
       " <p>Python blood plays another important role in <a href=\"/wiki/Traditional_medicine\" title=\"Traditional medicine\">traditional medicine</a>. Many believe that python blood prevent accumulation of <a href=\"/wiki/Fatty_acid\" title=\"Fatty acid\">fatty acids</a>, <a href=\"/wiki/Triglyceride\" title=\"Triglyceride\">triglycerides</a> and <a href=\"/wiki/Lipid\" title=\"Lipid\">lipids</a> from reaching critically high levels.<sup class=\"reference\" id=\"cite_ref-:2_26-2\"><a href=\"#cite_note-:2-26\">[24]</a></sup> Additionally, their blood has been used as a source of iron for people who are anemic, which helps reduce fatigue.<sup class=\"reference\" id=\"cite_ref-:2_26-3\"><a href=\"#cite_note-:2-26\">[24]</a></sup><i>[</i>The sources were not specific on the way this blood is administered, however due to the use of snake blood in traditional treatments in other parts of  the world for similar causes, it is likely that the patient drinks the blood in order to feel the effects.<sup class=\"reference\" id=\"cite_ref-28\"><a href=\"#cite_note-28\">[26]</a></sup>\n",
       " </p>,\n",
       " <p>The Sukuma Tribe of <a href=\"/wiki/Tanzania\" title=\"Tanzania\">Tanzania</a> have been known to use python <a href=\"/wiki/Feces\" title=\"Feces\">feces</a> in order to treat back pain.  The feces are frequently mixed with a little water, placed on the back, and left for two to three days.<sup class=\"reference\" id=\"cite_ref-29\"><a href=\"#cite_note-29\">[27]</a></sup>\n",
       " </p>,\n",
       " <p>In Nigeria, the <a href=\"/wiki/Gallbladder\" title=\"Gallbladder\">gallbladde</a>r and <a href=\"/wiki/Liver\" title=\"Liver\">liver</a> of a python snake are used to treat poison or bites from other snakes.<sup class=\"reference\" id=\"cite_ref-Soewu_2008_23-1\"><a href=\"#cite_note-Soewu_2008-23\">[21]</a></sup> The python head has been used to \"appease witches\". Many traditional African cultures believe that they can be cursed by witches. In order to reverse spells and bad luck, traditional doctors will prescribe python heads.<sup class=\"reference\" id=\"cite_ref-Soewu_2008_23-2\"><a href=\"#cite_note-Soewu_2008-23\">[21]</a></sup> The head is also used to prevent potential accidents from happening. Additionally, if someone is seeking a marital partner, the head will be used to attract a wife or husband.\n",
       " </p>,\n",
       " <p>In northwestern <a href=\"/wiki/Ghana\" title=\"Ghana\">Ghana</a>, people see pythons as a savior and have taboos to prevent the snake from being harmed or eaten. Their folklore states that this is because a python once helped them flee from their enemies by transforming into a log to allow them to cross a river.<sup class=\"reference\" id=\"cite_ref-30\"><a href=\"#cite_note-30\">[28]</a></sup>\n",
       " </p>,\n",
       " <p>In <a href=\"/wiki/Botswana\" title=\"Botswana\">Botswana</a>, San ritual practices surrounding pythons date back 70,000 years.  In San mythology the python is a sacred creature that is highly respected.<sup class=\"reference\" id=\"cite_ref-31\"><a href=\"#cite_note-31\">[29]</a></sup> They believe that mankind was made by a python that moved in between hills to create stream beds.\n",
       " </p>,\n",
       " <p>In <a href=\"/wiki/Benin\" title=\"Benin\">Benin</a>, those who practice Vodun believe that pythons symbolize strength and the spirit of Dagbe [\"to do good\" in <a href=\"/wiki/Yoruba_language\" title=\"Yoruba language\">Yoruba</a>].  Annually, people sacrifice animals and proclaim their sins to pythons that are kept inside temples.<sup class=\"reference\" id=\"cite_ref-32\"><a href=\"#cite_note-32\">[30]</a></sup>\n",
       " </p>]"
      ]
     },
     "execution_count": 45,
     "metadata": {},
     "output_type": "execute_result"
    }
   ],
   "source": [
    "# FIND_ALL of the <p> Paragraphs\n",
    "\n",
    "soup.find_all('p')"
   ]
  },
  {
   "cell_type": "code",
   "execution_count": 53,
   "metadata": {},
   "outputs": [
    {
     "name": "stdout",
     "output_type": "stream",
     "text": [
      "[None, None, None, None, None, None, None, None, None, None, None, None, None, None, None, None, None, None, None, None, None, None, None, None, None]\n"
     ]
    }
   ],
   "source": [
    "# Loop thorugh each paragraph\n",
    "\n",
    "paragraphs = []\n",
    "\n",
    "for paragraph in soup.find_all('p'):\n",
    "    paragraphs.append(paragraph.get('p'))\n",
    "\n",
    "print(paragraphs)"
   ]
  },
  {
   "cell_type": "code",
   "execution_count": null,
   "metadata": {},
   "outputs": [],
   "source": []
  }
 ],
 "metadata": {
  "kernelspec": {
   "display_name": "Python 3",
   "language": "python",
   "name": "python3"
  },
  "language_info": {
   "codemirror_mode": {
    "name": "ipython",
    "version": 3
   },
   "file_extension": ".py",
   "mimetype": "text/x-python",
   "name": "python",
   "nbconvert_exporter": "python",
   "pygments_lexer": "ipython3",
   "version": "3.7.7"
  }
 },
 "nbformat": 4,
 "nbformat_minor": 4
}
