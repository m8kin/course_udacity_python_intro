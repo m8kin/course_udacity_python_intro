{
 "cells": [
  {
   "cell_type": "code",
   "execution_count": 4,
   "metadata": {},
   "outputs": [
    {
     "name": "stdout",
     "output_type": "stream",
     "text": [
      "13\n",
      "7\n",
      "3.3333333333333335\n",
      "30\n",
      "1\n",
      "1000\n",
      "3\n"
     ]
    }
   ],
   "source": [
    "#Arithmetic Operators\n",
    "\n",
    "print(10 + 3) #addition\n",
    "print(10 - 3) #subtraction\n",
    "print(10 / 3) #division\n",
    "print(10 * 3) #multiplication\n",
    "print(10 % 3) #mod (the remainder after dividing)\n",
    "print(10 ** 3) #exponentiation\n",
    "print(10 // 3) #divides and rounds down"
   ]
  },
  {
   "cell_type": "code",
   "execution_count": 6,
   "metadata": {},
   "outputs": [
    {
     "name": "stdout",
     "output_type": "stream",
     "text": [
      "13\n",
      "13 7\n"
     ]
    }
   ],
   "source": [
    "#Variables\n",
    "\n",
    "addition = 10 + 3\n",
    "addition, subtratcion = 10 + 3, 10 - 3\n",
    "print(addition)\n",
    "print(addition, subtratcion)"
   ]
  },
  {
   "cell_type": "code",
   "execution_count": 8,
   "metadata": {},
   "outputs": [
    {
     "name": "stdout",
     "output_type": "stream",
     "text": [
      "23\n",
      "-3\n",
      "0.33333333333333337\n",
      "300\n"
     ]
    }
   ],
   "source": [
    "#Assignment\n",
    "\n",
    "addition = 10 + 3\n",
    "addition += 10\n",
    "print(addition)\n",
    "\n",
    "subtraction = 10 - 3\n",
    "subtraction -= 10\n",
    "print(subtraction)\n",
    "\n",
    "division = 10 / 3\n",
    "division /= 10\n",
    "print(division)\n",
    "\n",
    "multiplication = 10 * 3\n",
    "multiplication *= 10\n",
    "print(multiplication)"
   ]
  },
  {
   "cell_type": "code",
   "execution_count": 13,
   "metadata": {},
   "outputs": [
    {
     "name": "stdout",
     "output_type": "stream",
     "text": [
      "10\n",
      "<class 'int'>\n",
      "10.0\n",
      "<class 'float'>\n"
     ]
    }
   ],
   "source": [
    "#Integers and Floats\n",
    "\n",
    "x = 10.3\n",
    "x_int = int(10.3)\n",
    "x_float = float(x_int)\n",
    "print(x_int)\n",
    "print(type(x_int))\n",
    "print(x_float)\n",
    "print(type(x_float))"
   ]
  },
  {
   "cell_type": "code",
   "execution_count": null,
   "metadata": {},
   "outputs": [],
   "source": [
    "# Booleans, Comparison Operators, and Logical Operators\n"
   ]
  }
 ],
 "metadata": {
  "kernelspec": {
   "display_name": "Python 3",
   "language": "python",
   "name": "python3"
  },
  "language_info": {
   "codemirror_mode": {
    "name": "ipython",
    "version": 3
   },
   "file_extension": ".py",
   "mimetype": "text/x-python",
   "name": "python",
   "nbconvert_exporter": "python",
   "pygments_lexer": "ipython3",
   "version": "3.7.3"
  }
 },
 "nbformat": 4,
 "nbformat_minor": 2
}
