{
 "cells": [
  {
   "cell_type": "markdown",
   "metadata": {},
   "source": [
    "# TYPES AND OPERATORS"
   ]
  },
  {
   "cell_type": "code",
   "execution_count": 4,
   "metadata": {},
   "outputs": [
    {
     "name": "stdout",
     "output_type": "stream",
     "text": [
      "13\n",
      "7\n",
      "3.3333333333333335\n",
      "30\n",
      "1\n",
      "1000\n",
      "3\n"
     ]
    }
   ],
   "source": [
    "#Arithmetic Operators\n",
    "\n",
    "print(10 + 3) #addition\n",
    "print(10 - 3) #subtraction\n",
    "print(10 / 3) #division\n",
    "print(10 * 3) #multiplication\n",
    "print(10 % 3) #mod (the remainder after dividing)\n",
    "print(10 ** 3) #exponentiation\n",
    "print(10 // 3) #divides and rounds down"
   ]
  },
  {
   "cell_type": "code",
   "execution_count": 6,
   "metadata": {},
   "outputs": [
    {
     "name": "stdout",
     "output_type": "stream",
     "text": [
      "13\n",
      "13 7\n"
     ]
    }
   ],
   "source": [
    "#Variables\n",
    "\n",
    "addition = 10 + 3\n",
    "addition, subtratcion = 10 + 3, 10 - 3\n",
    "print(addition)\n",
    "print(addition, subtratcion)"
   ]
  },
  {
   "cell_type": "code",
   "execution_count": 8,
   "metadata": {},
   "outputs": [
    {
     "name": "stdout",
     "output_type": "stream",
     "text": [
      "23\n",
      "-3\n",
      "0.33333333333333337\n",
      "300\n"
     ]
    }
   ],
   "source": [
    "#Assignment\n",
    "\n",
    "addition = 10 + 3\n",
    "addition += 10\n",
    "print(addition)\n",
    "\n",
    "subtraction = 10 - 3\n",
    "subtraction -= 10\n",
    "print(subtraction)\n",
    "\n",
    "division = 10 / 3\n",
    "division /= 10\n",
    "print(division)\n",
    "\n",
    "multiplication = 10 * 3\n",
    "multiplication *= 10\n",
    "print(multiplication)"
   ]
  },
  {
   "cell_type": "code",
   "execution_count": 13,
   "metadata": {},
   "outputs": [
    {
     "name": "stdout",
     "output_type": "stream",
     "text": [
      "10\n",
      "<class 'int'>\n",
      "10.0\n",
      "<class 'float'>\n"
     ]
    }
   ],
   "source": [
    "#Integers and Floats\n",
    "\n",
    "x = 10.3\n",
    "x_int = int(10.3)\n",
    "x_float = float(x_int)\n",
    "print(x_int)\n",
    "print(type(x_int))\n",
    "print(x_float)\n",
    "print(type(x_float))"
   ]
  },
  {
   "cell_type": "code",
   "execution_count": 9,
   "metadata": {},
   "outputs": [
    {
     "name": "stdout",
     "output_type": "stream",
     "text": [
      "False True True\n",
      "<class 'bool'>\n",
      "True\n",
      "True\n",
      "True\n"
     ]
    }
   ],
   "source": [
    "# Booleans, Comparison Operators, and Logical Operators\n",
    "x = 42 > 43\n",
    "y = 42 < 43\n",
    "z = 42 == 42\n",
    "print(x,y,z)\n",
    "print(type(x))\n",
    "\n",
    "age = 30\n",
    "gender = \"male\"\n",
    "is_male_adult = age > 12 and gender == \"male\"\n",
    "print(is_male_adult)\n",
    "\n",
    "age = 10\n",
    "gender = \"male\"\n",
    "is_male_or_adult = age > 12 or gender == \"male\"\n",
    "print(is_male_or_adult)\n",
    "\n",
    "age = 12\n",
    "gender = \"female\"\n",
    "is_not_male_or_adult = not (age > 12 or gender == \"male\")\n",
    "print(is_not_male_or_adult)"
   ]
  },
  {
   "cell_type": "code",
   "execution_count": 13,
   "metadata": {},
   "outputs": [
    {
     "name": "stdout",
     "output_type": "stream",
     "text": [
      "this is a string!\n",
      "this is also a string!!!\n",
      "Simon's skateboard is in the garage.\n",
      "Simon's skateboard is in the garage.\n",
      "36\n",
      "this is a string! this is also a string!!!\n"
     ]
    }
   ],
   "source": [
    "# Strings and Length\n",
    "string1 = 'this is a string!'\n",
    "string2 = \"this is also a string!!!\"\n",
    "\n",
    "# how to handle apostrophe's\n",
    "string3 = 'Simon\\'s skateboard is in the garage.'\n",
    "string4 = \"Simon's skateboard is in the garage.\"\n",
    "\n",
    "# length, inlvudes spaces and punctuation\n",
    "string4_length = len(string4)\n",
    "\n",
    "# stringing strings\n",
    "string5 = string1 + \" \" + string2\n",
    "\n",
    "print(string1)\n",
    "print(string2)\n",
    "print(string3)\n",
    "print(string4)\n",
    "print(string4_length)\n",
    "print(string5)"
   ]
  },
  {
   "cell_type": "code",
   "execution_count": 16,
   "metadata": {},
   "outputs": [
    {
     "name": "stdout",
     "output_type": "stream",
     "text": [
      "This week's total sales: $ 529.0\n"
     ]
    }
   ],
   "source": [
    "# Type and Conversion\n",
    "mon_sales = \"121\"\n",
    "tues_sales = \"105\"\n",
    "wed_sales = \"110\"\n",
    "thurs_sales = \"98\"\n",
    "fri_sales = \"95\"\n",
    "total_sales = float(int(mon_sales) + int(tues_sales) + int(wed_sales) + int(thurs_sales) + int(fri_sales))\n",
    "\n",
    "print(\"This week's total sales: $\",total_sales)"
   ]
  },
  {
   "cell_type": "code",
   "execution_count": 28,
   "metadata": {},
   "outputs": [
    {
     "name": "stdout",
     "output_type": "stream",
     "text": [
      "hello universe!!!\n",
      "Hi Mark\n",
      "is the string 'hello universe!!!' lower case? Answer = True\n"
     ]
    }
   ],
   "source": [
    "# String Methods\n",
    "# Methods are like some of the functions\n",
    "# Methods actually are functions that are called using dot notation\n",
    "# Methods are specific to the data type for a particular variable\n",
    "\n",
    "string1 = \"HELLO UNIVERSE!!!\"\n",
    "string1_lower = string1.lower()\n",
    "string1_islower = string1.lower().islower()\n",
    "print(string1_lower)\n",
    "\n",
    "# formatting\n",
    "# formatting sequntially passes each argument into the curly parentheses {}\n",
    "print(\"Hi {}\".format(\"Mark\"))\n",
    "print(\"is the string '{}' lower case? Answer = {}\".format(string1_lower,string1_islower))"
   ]
  },
  {
   "cell_type": "code",
   "execution_count": 11,
   "metadata": {},
   "outputs": [
    {
     "name": "stdout",
     "output_type": "stream",
     "text": [
      "['The', 'cow', 'jumped', 'over', 'the', 'moon.']\n",
      "['The', 'cow jumped over the moon.']\n",
      "['The', 'cow', 'jumped', 'over the moon.']\n",
      "['The', 'cow', 'jumped', 'over', 'the', 'moon.']\n"
     ]
    }
   ],
   "source": [
    "# Split Method\n",
    "new_str = \"The cow jumped over the moon.\"\n",
    "\n",
    "# default split on whitespace\n",
    "new_str_spl = new_str.split()\n",
    "print(new_str_spl)\n",
    "\n",
    "# dictate what the delimiter is and how many elements to split\n",
    "print(new_str.split(' ', 1))\n",
    "print(new_str.split(' ', 3))\n",
    "print(new_str.split(' ', 5))"
   ]
  },
  {
   "cell_type": "code",
   "execution_count": 2,
   "metadata": {},
   "outputs": [
    {
     "data": {
      "text/plain": [
       "['The', 'cow', 'jumped', 'over the moon.']"
      ]
     },
     "execution_count": 2,
     "metadata": {},
     "output_type": "execute_result"
    }
   ],
   "source": [
    "new_str.split(' ', 3)"
   ]
  },
  {
   "cell_type": "markdown",
   "metadata": {},
   "source": [
    "# DATA STRUCTURES"
   ]
  },
  {
   "cell_type": "code",
   "execution_count": 13,
   "metadata": {},
   "outputs": [
    {
     "name": "stdout",
     "output_type": "stream",
     "text": [
      "[1, 3.4, 'a string', True]\n"
     ]
    }
   ],
   "source": [
    "# lISTS\n",
    "list_of_random_things = [1, 3.4, 'a string', True]\n",
    "print(list_of_random_things)"
   ]
  },
  {
   "cell_type": "code",
   "execution_count": 21,
   "metadata": {},
   "outputs": [
    {
     "name": "stdout",
     "output_type": "stream",
     "text": [
      "Element at Index 0: 1\n",
      "Element at Index 2: a string\n"
     ]
    }
   ],
   "source": [
    "# list have indicies reflecting each ELEMENT starting at [0]\n",
    "print(\"Element at Index 0:\", list_of_random_things[0])\n",
    "print(\"Element at Index 2:\", list_of_random_things[2])"
   ]
  },
  {
   "cell_type": "code",
   "execution_count": 24,
   "metadata": {},
   "outputs": [
    {
     "name": "stdout",
     "output_type": "stream",
     "text": [
      "Element at the last Index: True\n",
      "Element at the second last Index: a string\n"
     ]
    }
   ],
   "source": [
    "# Indicies also work from the end\n",
    "print(\"Element at the last Index:\", list_of_random_things[-1])\n",
    "print(\"Element at the second last Index:\", list_of_random_things[-2])"
   ]
  },
  {
   "cell_type": "code",
   "execution_count": 27,
   "metadata": {},
   "outputs": [
    {
     "name": "stdout",
     "output_type": "stream",
     "text": [
      "[3.4] only one element is returned\n",
      "[3.4, 'a string'] two elements are returned\n"
     ]
    }
   ],
   "source": [
    "# SLICING\n",
    "# the lower index is inclusive and the upper index is exclusive\n",
    "print(list_of_random_things[1:2], \"only one element is returned\")\n",
    "print(list_of_random_things[1:3], \"two elements are returned\")"
   ]
  },
  {
   "cell_type": "code",
   "execution_count": 34,
   "metadata": {},
   "outputs": [
    {
     "name": "stdout",
     "output_type": "stream",
     "text": [
      "[1, 3.4, 'a string'] elements up to third\n",
      "[3.4, 'a string', True] elements starting from second\n"
     ]
    }
   ],
   "source": [
    "# can also keep slicing open ended\n",
    "print(list_of_random_things[:3], \"elements up to third\")\n",
    "print(list_of_random_things[1:], \"elements starting from second\")"
   ]
  },
  {
   "cell_type": "code",
   "execution_count": 37,
   "metadata": {},
   "outputs": [
    {
     "name": "stdout",
     "output_type": "stream",
     "text": [
      "True\n",
      "False\n",
      "True\n",
      "False\n"
     ]
    }
   ],
   "source": [
    "# in OR not in, returns a BOOLEAN\n",
    "print('this' in 'this is a string')\n",
    "print('that' in 'this is a string')\n",
    "print('that' not in 'this is a string')\n",
    "print(5 in [1, 2, 3, 4, 6])"
   ]
  },
  {
   "cell_type": "code",
   "execution_count": 40,
   "metadata": {},
   "outputs": [
    {
     "name": "stdout",
     "output_type": "stream",
     "text": [
      "['one', 2, 3, 4, 5]\n"
     ]
    }
   ],
   "source": [
    "# MUTABILITY\n",
    "# is about whether or not we can change an object once it has been created\n",
    "# if something is IMMUTABLE then it cannot be changed\n",
    "mutable_list = [1, 2, 3, 4, 5]\n",
    "\n",
    "# can assign new value to a list so it is mutable\n",
    "mutable_list[0] = 'one'\n",
    "print(mutable_list)"
   ]
  },
  {
   "cell_type": "code",
   "execution_count": null,
   "metadata": {},
   "outputs": [],
   "source": []
  }
 ],
 "metadata": {
  "kernelspec": {
   "display_name": "Python 3",
   "language": "python",
   "name": "python3"
  },
  "language_info": {
   "codemirror_mode": {
    "name": "ipython",
    "version": 3
   },
   "file_extension": ".py",
   "mimetype": "text/x-python",
   "name": "python",
   "nbconvert_exporter": "python",
   "pygments_lexer": "ipython3",
   "version": "3.7.3"
  }
 },
 "nbformat": 4,
 "nbformat_minor": 4
}
