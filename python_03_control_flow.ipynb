{
 "cells": [
  {
   "cell_type": "markdown",
   "metadata": {},
   "source": [
    "# Control Flow\n",
    "- Conditional Statements\n",
    "- Boolean Expressions\n",
    "- For and While Loops\n",
    "- Break and Continue\n",
    "- Zip and Enumerate\n",
    "- List Comprehensions"
   ]
  },
  {
   "cell_type": "markdown",
   "metadata": {},
   "source": [
    "### Conditional Statements"
   ]
  },
  {
   "cell_type": "code",
   "execution_count": 11,
   "metadata": {},
   "outputs": [
    {
     "name": "stdout",
     "output_type": "stream",
     "text": [
      "new phone balance: $14, new bank_balance: $40\n"
     ]
    }
   ],
   "source": [
    "# IF STATMENTS\n",
    "# conditional statement that runs or skips code based on whether a condition is true or false\n",
    "\n",
    "# step1: start with \"if\" keyword\n",
    "# step2: define the condition\n",
    "# step3: the condition to be checked closed with a colon\n",
    "# step4: indented code that is executed if condition is TRUE\n",
    "\n",
    "phone_balance = 4\n",
    "bank_balance = 50\n",
    "\n",
    "if phone_balance < 5:\n",
    "    phone_balance += 10\n",
    "    bank_balance -= 10\n",
    "    print(\"new phone balance: ${}, new bank_balance: ${}\".format(phone_balance, bank_balance))"
   ]
  },
  {
   "cell_type": "code",
   "execution_count": 12,
   "metadata": {},
   "outputs": [
    {
     "name": "stdout",
     "output_type": "stream",
     "text": [
      "make a phone call\n",
      "new phone balance: $4, new bank_balance: $50\n"
     ]
    }
   ],
   "source": [
    "# If, Elif\n",
    "# Elif is an optional clause that can be used if first condiion is FALSE\n",
    "\n",
    "# step1: start with \"if\" keyword\n",
    "# step2: define the condition\n",
    "# step3: the condition to be checked closed with a colon\n",
    "# step4: indented code that is executed if condition is TRUE\n",
    "# step5: \"elif\" keyword checks for additonal stament and closed with colon\n",
    "\n",
    "phone_balance = 6\n",
    "bank_balance = 50\n",
    "\n",
    "if phone_balance < 5:\n",
    "    phone_balance += 10\n",
    "    bank_balance -= 10\n",
    "elif phone_balance > 5:\n",
    "    phone_balance -= 2\n",
    "    print('make a phone call')\n",
    "    print(\"new phone balance: ${}, new bank_balance: ${}\".format(phone_balance, bank_balance))"
   ]
  },
  {
   "cell_type": "code",
   "execution_count": 13,
   "metadata": {},
   "outputs": [
    {
     "name": "stdout",
     "output_type": "stream",
     "text": [
      "ET Phone Home\n",
      "new phone balance: $0\n"
     ]
    }
   ],
   "source": [
    "# If, Elif, Else\n",
    "# Last is the \"else\" clause, which must come at the END if used\n",
    "# else is conditional on all else being FALSE\n",
    "\n",
    "# step1: start with \"if\" keyword\n",
    "# step2: define the condition\n",
    "# step3: the condition to be checked closed with a colon\n",
    "# step4: indented code that is executed if condition is TRUE\n",
    "# step5: \"elif\" keyword checks for additonal stament and closed with colon\n",
    "# step6: \"else\" keyword closed with colon used if all is FALSE\n",
    "\n",
    "phone_balance = 5\n",
    "bank_balance = 50\n",
    "\n",
    "if phone_balance < 5:\n",
    "    phone_balance += 10\n",
    "    bank_balance -= 10\n",
    "elif phone_balance > 5:\n",
    "    phone_balance -= 2\n",
    "    print('make a phone call')\n",
    "    print(\"new phone balance: ${}\".format(phone_balance))\n",
    "else:\n",
    "    phone_balance -= 5\n",
    "    print('ET Phone Home')\n",
    "    print(\"new phone balance: ${}\".format(phone_balance))\n",
    "    "
   ]
  },
  {
   "cell_type": "markdown",
   "metadata": {},
   "source": [
    "### Complex Boolean Expressions"
   ]
  },
  {
   "cell_type": "code",
   "execution_count": 20,
   "metadata": {},
   "outputs": [
    {
     "name": "stdout",
     "output_type": "stream",
     "text": [
      "BMI is not considered 'normal'\n",
      "Is there a rainbow?\n",
      "send email\n"
     ]
    }
   ],
   "source": [
    "# If statements sometimes use more complicated boolean expressions\n",
    "\n",
    "#example 1: BETWEEN 2 VALUES\n",
    "weight = 75\n",
    "height = 1.72\n",
    "if 18.5 <= weight / height**2 < 25:\n",
    "    print(\"BMI is considered 'normal'\")\n",
    "else:\n",
    "    print(\"BMI is not considered 'normal'\")\n",
    "\n",
    "#example 2: BOOLEAN\n",
    "is_raining = True\n",
    "is_sunny = True\n",
    "if is_raining and is_sunny:\n",
    "    print(\"Is there a rainbow?\")\n",
    "    \n",
    "#example 3: NOT, AND, OR\n",
    "unsubscribed = False\n",
    "location = 'CAN'\n",
    "if (not unsubscribed) and (location == \"USA\" or location == \"CAN\"):\n",
    "    print(\"send email\")"
   ]
  },
  {
   "cell_type": "code",
   "execution_count": 25,
   "metadata": {},
   "outputs": [
    {
     "name": "stdout",
     "output_type": "stream",
     "text": [
      "Oh dear, with 58 points you won no prize this time.\n"
     ]
    }
   ],
   "source": [
    "import random\n",
    "# GAME\n",
    "# random points\n",
    "# set prize to None\n",
    "points = random.randint(0, 200)\n",
    "prize = None\n",
    "\n",
    "# use the value of points to assign prize to the correct prize name\n",
    "if points <= 50:\n",
    "    prize = \"wooden spoon\"\n",
    "elif 151 <= points <= 180:\n",
    "    prize = \"wafer-thin mint\"\n",
    "elif points >= 181:\n",
    "    prize = \"killer penguin\"\n",
    "\n",
    "# use the truth value of prize to assign result to the correct message\n",
    "if prize:\n",
    "    result = \"Congratulations! With {} points you won a {}!\".format(points,prize)\n",
    "else:\n",
    "    result = \"Oh dear, with {} points you won no prize this time.\".format(points)\n",
    "\n",
    "print(result)"
   ]
  },
  {
   "cell_type": "markdown",
   "metadata": {},
   "source": [
    "### For Loops\n",
    "\n",
    "ITERABLES: an object that can return one of it's object at a time. This can include sequence types, such as strings, lists, and tuples, as well as non-sequence types, such as dictionaries and files.\n",
    "\n",
    "- for loops are ideal when the number of iterations is known or finite"
   ]
  },
  {
   "cell_type": "code",
   "execution_count": 39,
   "metadata": {},
   "outputs": [
    {
     "name": "stdout",
     "output_type": "stream",
     "text": [
      "loop number 1: is new york city\n",
      "loop number 2: is mountain view\n",
      "loop number 3: is chicago\n",
      "loop number 4: is los angeles\n",
      "looping done!\n"
     ]
    }
   ],
   "source": [
    "# FOR LOOP\n",
    "# loops code over iterbale each object\n",
    "\n",
    "# step1: start with \"for\" keyword\n",
    "# step2: define the \"iteration variable\" i.e city\n",
    "# step3: define the \"iterable\" being looped over i.e. cities\n",
    "# step4: the loop is closed with a colom\n",
    "# step5: define code (indented) executed in each iteration of this loop\n",
    "\n",
    "\n",
    "cities = ['new york city', 'mountain view', 'chicago', 'los angeles']\n",
    "loops = 0\n",
    "\n",
    "for city in cities:\n",
    "    loops += 1\n",
    "    print(\"loop number {}: is {}\".format(loops, city))\n",
    "    \n",
    "print(\"looping done!\")"
   ]
  },
  {
   "cell_type": "code",
   "execution_count": 50,
   "metadata": {},
   "outputs": [
    {
     "name": "stdout",
     "output_type": "stream",
     "text": [
      "range(0, 3)\n",
      "let's count 0:\n",
      "let's count 1:\n",
      "let's count 2:\n",
      "range(0, 10, 3)\n",
      "let's count 0:\n",
      "let's count 3:\n",
      "let's count 6:\n",
      "let's count 9:\n"
     ]
    }
   ],
   "source": [
    "#RANGE\n",
    "# range() is a built-in function used to create an iterable sequence of numbers\n",
    "x = range(3)\n",
    "print(x)\n",
    "\n",
    "# [i] is generally used as [i]terations\n",
    "for i in x:\n",
    "    print(\"let's count {}:\".format(i))\n",
    "\n",
    "# range() takes three int arguments\n",
    "    # range('start', 'stop'. 'step')\n",
    "    # 'start' argument is the first number of the sequence. (default = 0)\n",
    "    # 'stop' argument is 1 more than the last number of the sequence.\n",
    "    # 'step' argument is the difference between each number in the sequence. (default = 1) \n",
    "\n",
    "x = range(0, 10, 3)\n",
    "print(x)\n",
    "\n",
    "for i in x:\n",
    "    print(\"let's count {}:\".format(i))"
   ]
  },
  {
   "cell_type": "code",
   "execution_count": 29,
   "metadata": {},
   "outputs": [
    {
     "name": "stdout",
     "output_type": "stream",
     "text": [
      "factorial of 1 equals 1\n",
      "factorial of 2 equals 2\n",
      "factorial of 3 equals 6\n",
      "factorial of 4 equals 24\n",
      "factorial of 5 equals 120\n",
      "factorial of 6 equals 720\n",
      "720\n"
     ]
    }
   ],
   "source": [
    "# Factorials with FOR Loops\n",
    "# A factorial of a whole number is that number multiplied by every whole number between itself and 1\n",
    "\n",
    "# find factorial of 6\n",
    "number = 6   \n",
    "product = 1\n",
    "\n",
    "for i in range(product, number + 1):\n",
    "    product *= i\n",
    "    print(\"factorial of {} equals {}\".format(i, product))"
   ]
  },
  {
   "cell_type": "markdown",
   "metadata": {},
   "source": [
    "### Creating and Modifying Lists"
   ]
  },
  {
   "cell_type": "code",
   "execution_count": 55,
   "metadata": {},
   "outputs": [
    {
     "name": "stdout",
     "output_type": "stream",
     "text": [
      "['New York City']\n",
      "['New York City', 'Mountain View']\n",
      "['New York City', 'Mountain View', 'Chicago']\n",
      "['New York City', 'Mountain View', 'Chicago', 'Los Angeles']\n"
     ]
    }
   ],
   "source": [
    "# CREATE A NEW LIST\n",
    "\n",
    "# ORIGINAL and NEW defined befoe loop\n",
    "cities = ['new york city', 'mountain view', 'chicago', 'los angeles']\n",
    "capitalized_cities = []\n",
    "\n",
    "for city in cities:\n",
    "    capitalized_cities.append(city.title())\n",
    "    print(capitalized_cities)"
   ]
  },
  {
   "cell_type": "code",
   "execution_count": 62,
   "metadata": {},
   "outputs": [
    {
     "name": "stdout",
     "output_type": "stream",
     "text": [
      "New York City\n",
      "Mountain View\n",
      "Chicago\n",
      "Los Angeles\n",
      "now all capitalised: ['New York City', 'Mountain View', 'Chicago', 'Los Angeles']\n"
     ]
    }
   ],
   "source": [
    "# MODIFY A LIST\n",
    "# requires the range function that is looped over\n",
    "# acces the [index] of list using range\n",
    "cities = ['new york city', 'mountain view', 'chicago', 'los angeles']\n",
    "\n",
    "for i in range(len(cities)):\n",
    "    cities[i] = cities[i].title()\n",
    "    print(cities[i])\n",
    "\n",
    "print(\"now all capitalised: {}\".format(cities))"
   ]
  },
  {
   "cell_type": "code",
   "execution_count": 63,
   "metadata": {},
   "outputs": [
    {
     "name": "stdout",
     "output_type": "stream",
     "text": [
      "5\n",
      "10\n",
      "15\n",
      "20\n",
      "25\n",
      "30\n"
     ]
    }
   ],
   "source": [
    "# FOR AND IF\n",
    "\n",
    "# to print values > 0 in multiples of 5\n",
    "for i in range(0, 31, 5):\n",
    "    if i > 0:\n",
    "        print(i)"
   ]
  },
  {
   "cell_type": "code",
   "execution_count": 50,
   "metadata": {},
   "outputs": [
    {
     "name": "stdout",
     "output_type": "stream",
     "text": [
      "The sum of the first 5 odd numbers is: 993\n"
     ]
    }
   ],
   "source": [
    "# ADD UP FIRST 5 ODD NUMBERS\n",
    "num_list = [422, 136, 524, 85, 96, 719, 85, 92, 10, 17, 312, 542, 87, 23, 86, 191, 116, 35, 173, 45, 149, 59, 84, 69, 113, 166]\n",
    "odd_num_list = []\n",
    "odd_num_list_len = 0\n",
    "\n",
    "for num in num_list:\n",
    "    if num % 2 != 0 and odd_num_list_len < 5:\n",
    "        odd_num_list.append(num)\n",
    "        odd_num_list_len += 1\n",
    "        result = sum(odd_num_list)\n",
    "\n",
    "print(\"The sum of the first 5 odd numbers is: {}\".format(result))"
   ]
  },
  {
   "cell_type": "code",
   "execution_count": 64,
   "metadata": {},
   "outputs": [
    {
     "name": "stdout",
     "output_type": "stream",
     "text": [
      "<ul>\n",
      "<li>google.com</li>\n",
      "<li>facebook.com</li>\n",
      "</ul>\n"
     ]
    }
   ],
   "source": [
    "# STRINGS AND NEW LINE \\n\n",
    "    # want to print strings on a newline\n",
    "    # \\n ... is the character that marks the end of the a line\n",
    "\n",
    "urls = ['google.com', 'facebook.com']\n",
    "html_str = \"<ul>\\n\"  \n",
    "\n",
    "for url in urls:\n",
    "    html_str += \"<li>{}</li>\\n\".format(url)\n",
    "\n",
    "html_str += \"</ul>\"\n",
    "print(html_str)"
   ]
  },
  {
   "cell_type": "markdown",
   "metadata": {},
   "source": [
    "### Building Dictionaries\n",
    "1. counting with \"for loops\"\n",
    "2. the dictionary \"get\" method"
   ]
  },
  {
   "cell_type": "code",
   "execution_count": 70,
   "metadata": {},
   "outputs": [
    {
     "name": "stdout",
     "output_type": "stream",
     "text": [
      "method 1 result {'great': 2, 'expectations': 1, 'the': 2, 'adventures': 2, 'of': 2, 'sherlock': 1, 'holmes': 1, 'gasby': 1, 'hamlet': 1, 'huckleberry': 1, 'fin': 1}\n",
      "method 2 result {'great': 2, 'expectations': 1, 'the': 2, 'adventures': 2, 'of': 2, 'sherlock': 1, 'holmes': 1, 'gasby': 1, 'hamlet': 1, 'huckleberry': 1, 'fin': 1}\n"
     ]
    }
   ],
   "source": [
    "# create DICTIOPNARUY with word counts\n",
    "\n",
    "# step1: define empty dictionary{}\n",
    "# step2: start with \"for\" keyword\n",
    "# step3: define the \"iteration variable\" i.e city\n",
    "# step4: define the \"iterable\" being looped over i.e. cities\n",
    "# step5: the loop is closed with a colom\n",
    "# step6: define code (indented) executed in each iteration of this loop\n",
    "# check if the 'word' is already assigned in 'word_counter'\n",
    "    # if NOT IN is TRUE then count as 1\n",
    "    # if NOT IN is FALSE then count up +=\n",
    "    \n",
    "# METHOD 1\n",
    "book_title =  ['great', 'expectations','the', 'adventures', 'of', 'sherlock','holmes','the','great','gasby','hamlet','adventures','of','huckleberry','fin']\n",
    "word_counter = {}\n",
    "\n",
    "for word in book_title:\n",
    "    if word not in word_counter:\n",
    "        word_counter[word] = 1\n",
    "    else:\n",
    "        word_counter[word] += 1\n",
    "\n",
    "print(\"method 1 result: {}\".format(word_counter))\n",
    "\n",
    "\n",
    "# METHOD 2 using get()\n",
    "# get() is used to get the value\n",
    "    # get(word, 0)\n",
    "    # if not in rather than returning NONE, 0 is return and 1 added to it\n",
    "book_title =  ['great', 'expectations','the', 'adventures', 'of', 'sherlock','holmes','the','great','gasby','hamlet','adventures','of','huckleberry','fin']\n",
    "word_counter = {}\n",
    "\n",
    "for word in book_title:\n",
    "    word_counter[word] = word_counter.get(word, 0) + 1\n",
    "\n",
    "print(\"method 2 result: {}\".format(word_counter))"
   ]
  },
  {
   "cell_type": "markdown",
   "metadata": {},
   "source": [
    "### Iterating Through Dictionaries with For Loops\n",
    "- want to iterate through both the keys and values\n",
    "- use the built-in method items() to iterate through values"
   ]
  },
  {
   "cell_type": "code",
   "execution_count": 5,
   "metadata": {},
   "outputs": [
    {
     "name": "stdout",
     "output_type": "stream",
     "text": [
      "hydrogen\n",
      "helium\n",
      "carbon\n"
     ]
    }
   ],
   "source": [
    "# to iterate through the KEYS\n",
    "elements = {\"hydrogen\": 1, \"helium\": 2, \"carbon\": 6}\n",
    "\n",
    "for element in elements:\n",
    "    print(element)"
   ]
  },
  {
   "cell_type": "code",
   "execution_count": 8,
   "metadata": {},
   "outputs": [
    {
     "name": "stdout",
     "output_type": "stream",
     "text": [
      "key: hydrogen, value: 1\n",
      "key: helium, value: 2\n",
      "key: carbon, value: 6\n"
     ]
    }
   ],
   "source": [
    "# to iterate through the KEYS and VALUES use method \".items()\"\n",
    "elements = {\"hydrogen\": 1, \"helium\": 2, \"carbon\": 6}\n",
    "\n",
    "for element, value in elements.items():\n",
    "    print(\"key: {}, value: {}\".format(element, value))"
   ]
  },
  {
   "cell_type": "code",
   "execution_count": 10,
   "metadata": {},
   "outputs": [
    {
     "name": "stdout",
     "output_type": "stream",
     "text": [
      "fruits: 23, non fruits: 11\n"
     ]
    }
   ],
   "source": [
    "# using DICT and LIST to count fruits and non fruits!\n",
    "\n",
    "fruit_count, not_fruit_count = 0, 0\n",
    "basket_items = {'apples': 4, 'oranges': 19, 'kites': 3, 'sandwiches': 8}\n",
    "fruits = ['apples', 'oranges', 'pears', 'peaches', 'grapes', 'bananas']\n",
    "\n",
    "#Iterate through the dictionary\n",
    "for key, value in basket_items.items():\n",
    "    if key in fruits:\n",
    "        fruit_count += value\n",
    "    else:\n",
    "        not_fruit_count += value\n",
    "\n",
    "print(\"fruits: {}, non fruits: {}\".format(fruit_count, not_fruit_count))"
   ]
  },
  {
   "cell_type": "markdown",
   "metadata": {},
   "source": [
    "### While Loops\n",
    "- \"indefinite iteration\" which is when a loop repeats an unknown number of times and ends when some condition is met\n",
    "- while loops are ideal when the iterations need to continue until a condition is met\n",
    "\n",
    "REQUIREMENTS\n",
    "\n",
    "1) a condition expression that will be assessed and when met, will allow you to exit the loop \n",
    "\n",
    "2) make sure the loop is advancing \n",
    "\n",
    "3) the value of the condition variables is changing with each iteration of the loop"
   ]
  },
  {
   "cell_type": "code",
   "execution_count": 21,
   "metadata": {},
   "outputs": [
    {
     "name": "stdout",
     "output_type": "stream",
     "text": [
      "[8]\n",
      "8\n",
      "[8, 11]\n",
      "19\n",
      "final result: 19\n"
     ]
    }
   ],
   "source": [
    "# WHILE Loop\n",
    "\n",
    "# step1: start with \"while\" keyword\n",
    "# step2: define the condition\n",
    "# step3: the condition to be checked closed with a colon\n",
    "# step4: indented code that is executed if condition is TRUE\n",
    "\n",
    "import random #used for random.choice\n",
    "\n",
    "card_deck = [4, 11, 8, 5, 13, 2, 8, 10]\n",
    "hand = []\n",
    "\n",
    "while sum(hand)  < 17:\n",
    "    hand.append(random.choice(card_deck))\n",
    "    print(hand)\n",
    "    print(sum(hand))\n",
    "\n",
    "print(\"final result: {}\".format(sum(hand)))"
   ]
  },
  {
   "cell_type": "code",
   "execution_count": 27,
   "metadata": {},
   "outputs": [
    {
     "name": "stdout",
     "output_type": "stream",
     "text": [
      "factorial of 1 equals 1\n",
      "factorial of 2 equals 2\n",
      "factorial of 3 equals 6\n",
      "factorial of 4 equals 24\n",
      "factorial of 5 equals 120\n",
      "factorial of 6 equals 720\n"
     ]
    }
   ],
   "source": [
    "# Factorials with While Loops\n",
    "# A factorial of a whole number is that number multiplied by every whole number between itself and 1\n",
    "\n",
    "# find factorial of 6\n",
    "number = 6   \n",
    "product = 1\n",
    "current = 1\n",
    "\n",
    "while current <= number:\n",
    "    product *= current\n",
    "    current += 1\n",
    "    print(\"factorial of {} equals {}\".format(current-1, product))"
   ]
  },
  {
   "cell_type": "code",
   "execution_count": null,
   "metadata": {},
   "outputs": [],
   "source": [
    "# IF and WHILE is the start_num > end_num.\n",
    "\n",
    "start_num = 1000\n",
    "end_num = 100\n",
    "count_by = 10\n",
    "break_num = start_num\n",
    "\n",
    "if end_num < start_num:\n",
    "    result = \"Oops! Looks like your start value is greater than the end value. Please try again.\"\n",
    "else:\n",
    "    while break_num < end_num:\n",
    "        break_num += count_by\n",
    "        result = break_num\n",
    "\n",
    "print(result)"
   ]
  },
  {
   "cell_type": "markdown",
   "metadata": {},
   "source": [
    "### Break, Continue\n",
    "- control over when a loop should end, or skip an iteration\n",
    "- break terminates a loop\n",
    "- continue skips one iteration of a loop"
   ]
  },
  {
   "cell_type": "code",
   "execution_count": 55,
   "metadata": {},
   "outputs": [
    {
     "name": "stdout",
     "output_type": "stream",
     "text": [
      "current weight: 0\n",
      "  adding bananas (15)\n",
      "current weight: 15\n",
      "  adding mattresses (24)\n",
      "current weight: 39\n",
      "  adding dog kennels (42)\n",
      "current weight: 81\n",
      "  skipping machine (120)\n",
      "current weight: 81\n",
      "  adding cheeses (5)\n",
      "\n",
      "Final Weight: 86\n",
      "Final Items: ['bananas', 'mattresses', 'dog kennels', 'cheeses']\n"
     ]
    }
   ],
   "source": [
    "# using BREAK and CONTINUE to load a ship\n",
    "\n",
    "# step1: start the for loop:\n",
    "# step2: if ship is at capacity BREAK the loop\n",
    "# step3: if adding an item will take the ship over capacity try next item using CONTINUE\n",
    "# step4: indented code that is executed if condition is TRUE\n",
    "\n",
    "manifest = [(\"bananas\", 15), (\"mattresses\", 24), (\"dog kennels\", 42), (\"machine\", 120), (\"cheeses\", 5)]\n",
    "\n",
    "ship_capacity = 100\n",
    "ship_weight = 0\n",
    "loaded_items = []\n",
    "\n",
    "for cargo_name, cargo_weight in manifest:\n",
    "    print(\"current weight: {}\".format(ship_weight))\n",
    "    if ship_weight >= ship_capacity:\n",
    "        print(\"  breaking from the loop now!\")\n",
    "        break\n",
    "    elif ship_weight + cargo_weight > ship_capacity:\n",
    "        print(\"  skipping {} ({})\".format(cargo_name, cargo_weight))\n",
    "        continue\n",
    "    else:\n",
    "        print(\"  adding {} ({})\".format(cargo_name, cargo_weight))\n",
    "        loaded_items.append(cargo_name)\n",
    "        ship_weight += cargo_weight\n",
    "\n",
    "print(\"\\nFinal Weight: {}\".format(ship_weight))\n",
    "print(\"Final Items: {}\".format(loaded_items))"
   ]
  },
  {
   "cell_type": "code",
   "execution_count": 72,
   "metadata": {},
   "outputs": [
    {
     "name": "stdout",
     "output_type": "stream",
     "text": [
      "Local Bear Eaten by Man Legislature Announces New Laws Peasant Discovers Violence Inherent in System Cat Rescues Fireman Stuck in Tree Brave\n",
      "\n",
      "length of ticker: 140\n"
     ]
    }
   ],
   "source": [
    "# headlines example\n",
    "\n",
    "headlines = [\"Local Bear Eaten by Man\",\n",
    "             \"Legislature Announces New Laws\",\n",
    "             \"Peasant Discovers Violence Inherent in System\",\n",
    "             \"Cat Rescues Fireman Stuck in Tree\",\n",
    "             \"Brave Knight Runs Away\",\n",
    "             \"Papperbok Review: Totally Triffic\"]\n",
    "\n",
    "news_ticker = \"\"\n",
    "news_ticker_length = 0\n",
    "\n",
    "for headline in headlines:\n",
    "        news_ticker += headline + \" \"\n",
    "        if len(news_ticker) >= 140:\n",
    "            news_ticker = news_ticker[:140]\n",
    "            break\n",
    "            \n",
    "print(news_ticker)\n",
    "print(\"\\nlength of ticker: {}\".format(len(news_ticker)))"
   ]
  },
  {
   "cell_type": "markdown",
   "metadata": {},
   "source": [
    "### Zip and Enumerate\n",
    "- ZIP returns an iterator that combines multiple iterables into one sequence of tuples\n",
    "- ENUMERATE is a built in function that returns an iterator of tuples containing indices and values of a list"
   ]
  },
  {
   "cell_type": "code",
   "execution_count": 85,
   "metadata": {},
   "outputs": [
    {
     "name": "stdout",
     "output_type": "stream",
     "text": [
      "zipped: [('bananas', 15), ('mattresses', 24), ('dog kennels', 42), ('machine', 120), ('cheeses', 5)]\n",
      "unzipped items: ('bananas', 'mattresses', 'dog kennels', 'machine', 'cheeses')\n",
      "unzipped weights: (15, 24, 42, 120, 5) \n"
     ]
    }
   ],
   "source": [
    "# ZIP and UNZIP (*ZIP)\n",
    "\n",
    "items = ('bananas', 'mattresses', 'dog kennels', 'machine', 'cheeses')\n",
    "weight = (15, 24, 42, 120, 5)\n",
    "\n",
    "# ZIP two lists together and output as a TUPLE\n",
    "manifest = list(zip(items, weight))\n",
    "print(\"zipped: {}\".format(manifest))\n",
    "\n",
    "# UNZIP back into lists\n",
    "items2, weight2 = zip(*manifest)\n",
    "print(\"unzipped items: {}\\nunzipped weights: {} \".format(items2,weight2))"
   ]
  },
  {
   "cell_type": "code",
   "execution_count": 92,
   "metadata": {},
   "outputs": [
    {
     "name": "stdout",
     "output_type": "stream",
     "text": [
      "0 ('bananas', 15)\n",
      "1 ('mattresses', 24)\n",
      "2 ('dog kennels', 42)\n",
      "3 ('machine', 120)\n",
      "4 ('cheeses', 5)\n"
     ]
    }
   ],
   "source": [
    "# ENUMERATE\n",
    "items = ('bananas', 'mattresses', 'dog kennels', 'machine', 'cheeses')\n",
    "weight = (15, 24, 42, 120, 5)\n",
    "manifest = list(zip(items, weight))\n",
    "\n",
    "# return the index of each element\n",
    "for i, item in enumerate(manifest):\n",
    "    print(i, item)"
   ]
  },
  {
   "cell_type": "code",
   "execution_count": 182,
   "metadata": {},
   "outputs": [
    {
     "name": "stdout",
     "output_type": "stream",
     "text": [
      "the weight of bananas is: 15kg\n",
      "the weight of mattresses is: 24kg\n",
      "the weight of dog kennels is: 42kg\n",
      "the weight of machine is: 120kg\n",
      "the weight of cheeses is: 5kg\n"
     ]
    }
   ],
   "source": [
    "# ENUMERATE can be used to across to refernce other list\n",
    "\n",
    "items = ('bananas', 'mattresses', 'dog kennels', 'machine', 'cheeses')\n",
    "weight = (15, 24, 42, 120, 5)\n",
    "\n",
    "# print the weight of each item\n",
    "for i, item in enumerate(items):\n",
    "    print(\"the weight of {} is: {}kg\".format(items[i], weight[i]))"
   ]
  },
  {
   "cell_type": "code",
   "execution_count": 101,
   "metadata": {},
   "outputs": [
    {
     "name": "stdout",
     "output_type": "stream",
     "text": [
      "('F', 23, 677, 4)\n",
      "('J', 53, 233, 16)\n",
      "('A', 2, 405, -6)\n",
      "('Q', -12, 433, -42)\n",
      "('Y', 95, 905, 3)\n",
      "('B', 103, 376, -6)\n",
      "('W', 14, 432, 23)\n",
      "('X', -5, 445, -1)\n",
      "F: 23, 677, 4\n",
      "J: 53, 233, 16\n",
      "A: 2, 405, -6\n",
      "Q: -12, 433, -42\n",
      "Y: 95, 905, 3\n",
      "B: 103, 376, -6\n",
      "W: 14, 432, 23\n",
      "X: -5, 445, -1\n"
     ]
    }
   ],
   "source": [
    "# ZIP each point and PRINT each point as a string\n",
    "# the \"*\" in the FORMAT is used to UNZIP each iterable\n",
    "\n",
    "x_coord = [23, 53, 2, -12, 95, 103, 14, -5]\n",
    "y_coord = [677, 233, 405, 433, 905, 376, 432, 445]\n",
    "z_coord = [4, 16, -6, -42, 3, -6, 23, -1]\n",
    "labels = [\"F\", \"J\", \"A\", \"Q\", \"Y\", \"B\", \"W\", \"X\"]\n",
    "\n",
    "points = []\n",
    "\n",
    "for point in zip(labels,x_coord,y_coord,z_coord):\n",
    "    points.append(\"{}: {}, {}, {}\".format(*point))\n",
    "\n",
    "for point in points:\n",
    "    print(point)"
   ]
  },
  {
   "cell_type": "markdown",
   "metadata": {},
   "source": [
    "#### EXAMPLES"
   ]
  },
  {
   "cell_type": "code",
   "execution_count": 103,
   "metadata": {},
   "outputs": [
    {
     "name": "stdout",
     "output_type": "stream",
     "text": [
      "{'Barney': 72, 'Robin': 68, 'Ted': 72, 'Lily': 66, 'Marshall': 76}\n"
     ]
    }
   ],
   "source": [
    "# ZIP Lists to a DICTIONARY\n",
    "cast_names = [\"Barney\", \"Robin\", \"Ted\", \"Lily\", \"Marshall\"]\n",
    "cast_heights = [72, 68, 72, 66, 76]\n",
    "\n",
    "cast = dict(zip(cast_names, cast_heights))\n",
    "print(cast)"
   ]
  },
  {
   "cell_type": "code",
   "execution_count": 105,
   "metadata": {},
   "outputs": [
    {
     "name": "stdout",
     "output_type": "stream",
     "text": [
      "('Barney', 'Robin', 'Ted', 'Lily', 'Marshall')\n",
      "(72, 68, 72, 66, 76)\n"
     ]
    }
   ],
   "source": [
    "# UNZIP TUPLES\n",
    "cast = ((\"Barney\", 72), (\"Robin\", 68), (\"Ted\", 72), (\"Lily\", 66), (\"Marshall\", 76))\n",
    "\n",
    "# define names and heights here\n",
    "names, heights = zip(*cast)\n",
    "\n",
    "print(names)\n",
    "print(heights)"
   ]
  },
  {
   "cell_type": "code",
   "execution_count": 122,
   "metadata": {},
   "outputs": [
    {
     "name": "stdout",
     "output_type": "stream",
     "text": [
      "original: ((0, 1, 2), (3, 4, 5), (6, 7, 8), (9, 10, 11))\n",
      "unzipped: (0, 1, 2) (3, 4, 5) (6, 7, 8) (9, 10, 11)\n",
      "zipped: ((0, 3, 6, 9), (1, 4, 7, 10), (2, 5, 8, 11)) <class 'tuple'>\n"
     ]
    }
   ],
   "source": [
    "# Transpose with ZIP\n",
    "# from a 4-by-3 matrix to a 3-by-4 matrix\n",
    "\n",
    "data = ((0, 1, 2), (3, 4, 5), (6, 7, 8), (9, 10, 11))\n",
    "data_transpose = tuple(zip(*data))\n",
    "\n",
    "print(\"original:\", data)\n",
    "print(\"unzipped:\", *data)\n",
    "print(\"zipped:\", data_transpose, type(data_transpose))"
   ]
  },
  {
   "cell_type": "code",
   "execution_count": 171,
   "metadata": {},
   "outputs": [
    {
     "name": "stdout",
     "output_type": "stream",
     "text": [
      "['Barney Stinson 72', 'Robin Scherbatsky 68', 'Ted Mosby 72', 'Lily Aldrin 66', 'Marshall Eriksen 76']\n"
     ]
    }
   ],
   "source": [
    "# ENUMERATE to join\n",
    "\n",
    "cast = [\"Barney Stinson\", \"Robin Scherbatsky\", \"Ted Mosby\", \"Lily Aldrin\", \"Marshall Eriksen\"]\n",
    "heights = [72, 68, 72, 66, 76]\n",
    "\n",
    "# write your for loop here\n",
    "for i, name in enumerate(cast):\n",
    "    cast[i] = name + \" \" + str(heights[i])\n",
    "\n",
    "print(cast)"
   ]
  },
  {
   "cell_type": "markdown",
   "metadata": {},
   "source": [
    "### List Comprehensions\n",
    "\n",
    "- create lists really quickly and concisely with list comprehensions\n",
    "- the FOR LOOP can be used in one step\n",
    "- use [ ]"
   ]
  },
  {
   "cell_type": "code",
   "execution_count": 193,
   "metadata": {},
   "outputs": [
    {
     "name": "stdout",
     "output_type": "stream",
     "text": [
      "method 1: ['New York City', 'Mountain View', 'Chicago', 'Los Angeles']\n",
      "method 2: ['New York City', 'Mountain View', 'Chicago', 'Los Angeles']\n"
     ]
    }
   ],
   "source": [
    "# LIST COMPREHENSION\n",
    "\n",
    "cities = ['new york city', 'mountain view', 'chicago', 'los angeles']\n",
    "\n",
    "# this...\n",
    "\n",
    "capitalized_cities = []\n",
    "for city in cities:\n",
    "    capitalized_cities.append(city.title())\n",
    "print(\"method 1: {}\".format(capitalized_cities))\n",
    "\n",
    "# can be reduced to ths!\n",
    "\n",
    "# step1: start with []\n",
    "# step2: define the output\n",
    "# step3: define the \"iteration variable\" i.e city\n",
    "# step4: define the \"iterable\" being looped over i.e. cities\n",
    "\n",
    "capitalized_cities = [city.title() for city in cities]\n",
    "print(\"method 2: {}\".format(capitalized_cities))"
   ]
  },
  {
   "cell_type": "code",
   "execution_count": 199,
   "metadata": {},
   "outputs": [
    {
     "name": "stdout",
     "output_type": "stream",
     "text": [
      "[0, 1, 4, 9, 16, 25, 36, 49, 64]\n",
      "[0, 4, 16, 36, 64]\n",
      "[0, 0, 4, 0, 16, 0, 36, 0, 64]\n"
     ]
    }
   ],
   "source": [
    "# IF conditionals in LIST COMPREHENSION\n",
    "\n",
    "squares = [x**2 for x in range(9)]\n",
    "print(squares)\n",
    "\n",
    "# step1: start with []\n",
    "# step2: define the output\n",
    "# step3: define the \"iteration variable\" i.e city\n",
    "# step4: define the \"iterable\" being looped over i.e. cities\n",
    "# step 5 define the IF conditional\n",
    "\n",
    "\n",
    "squares = [x**2 for x in range(9) if x % 2 == 0]\n",
    "print(squares)\n",
    "\n",
    "# for some reaons if adding else swap the CONDITIONAL with the LOOP\n",
    "squares = [x**2 if x % 2 == 0 else 0 for x in range(9)]\n",
    "print(squares)"
   ]
  },
  {
   "cell_type": "markdown",
   "metadata": {},
   "source": [
    "#### EXAMPLES"
   ]
  },
  {
   "cell_type": "code",
   "execution_count": 201,
   "metadata": {},
   "outputs": [
    {
     "name": "stdout",
     "output_type": "stream",
     "text": [
      "['rick', 'morty', 'summer', 'jerry', 'beth']\n"
     ]
    }
   ],
   "source": [
    "# split string and take first value\n",
    "names = [\"Rick Sanchez\", \"Morty Smith\", \"Summer Smith\", \"Jerry Smith\", \"Beth Smith\"]\n",
    "\n",
    "first_names = [name.split()[0].lower() for name in names]\n",
    "print(first_names)"
   ]
  },
  {
   "cell_type": "code",
   "execution_count": null,
   "metadata": {},
   "outputs": [],
   "source": []
  }
 ],
 "metadata": {
  "kernelspec": {
   "display_name": "Python 3",
   "language": "python",
   "name": "python3"
  },
  "language_info": {
   "codemirror_mode": {
    "name": "ipython",
    "version": 3
   },
   "file_extension": ".py",
   "mimetype": "text/x-python",
   "name": "python",
   "nbconvert_exporter": "python",
   "pygments_lexer": "ipython3",
   "version": "3.7.3"
  }
 },
 "nbformat": 4,
 "nbformat_minor": 2
}
