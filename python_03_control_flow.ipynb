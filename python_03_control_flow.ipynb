{
 "cells": [
  {
   "cell_type": "markdown",
   "metadata": {},
   "source": [
    "# Control Flow\n",
    "- Conditional Statements\n",
    "- Boolean Expressions\n",
    "- For and While Loops\n",
    "- Break and Continue\n",
    "- Zip and Enumerate\n",
    "- List Comprehensions"
   ]
  },
  {
   "cell_type": "markdown",
   "metadata": {},
   "source": [
    "### Conditional Statements"
   ]
  },
  {
   "cell_type": "code",
   "execution_count": 11,
   "metadata": {},
   "outputs": [
    {
     "name": "stdout",
     "output_type": "stream",
     "text": [
      "new phone balance: $14, new bank_balance: $40\n"
     ]
    }
   ],
   "source": [
    "# IF STATMENTS\n",
    "# conditional statement that runs or skips code based on whether a condition is true or false\n",
    "\n",
    "# step1: start with \"if\" keyword\n",
    "# step2: define the condition\n",
    "# step3: the condition to be checked closed with a colon\n",
    "# step4: indented code that is executed if condition is TRUE\n",
    "\n",
    "phone_balance = 4\n",
    "bank_balance = 50\n",
    "\n",
    "if phone_balance < 5:\n",
    "    phone_balance += 10\n",
    "    bank_balance -= 10\n",
    "    print(\"new phone balance: ${}, new bank_balance: ${}\".format(phone_balance, bank_balance))"
   ]
  },
  {
   "cell_type": "code",
   "execution_count": 12,
   "metadata": {},
   "outputs": [
    {
     "name": "stdout",
     "output_type": "stream",
     "text": [
      "make a phone call\n",
      "new phone balance: $4, new bank_balance: $50\n"
     ]
    }
   ],
   "source": [
    "# If, Elif\n",
    "# Elif is an optional clause that can be used if first condiion is FALSE\n",
    "\n",
    "# step1: start with \"if\" keyword\n",
    "# step2: define the condition\n",
    "# step3: the condition to be checked closed with a colon\n",
    "# step4: indented code that is executed if condition is TRUE\n",
    "# step5: \"elif\" keyword checks for additonal stament and closed with colon\n",
    "\n",
    "phone_balance = 6\n",
    "bank_balance = 50\n",
    "\n",
    "if phone_balance < 5:\n",
    "    phone_balance += 10\n",
    "    bank_balance -= 10\n",
    "elif phone_balance > 5:\n",
    "    phone_balance -= 2\n",
    "    print('make a phone call')\n",
    "    print(\"new phone balance: ${}, new bank_balance: ${}\".format(phone_balance, bank_balance))"
   ]
  },
  {
   "cell_type": "code",
   "execution_count": 13,
   "metadata": {},
   "outputs": [
    {
     "name": "stdout",
     "output_type": "stream",
     "text": [
      "ET Phone Home\n",
      "new phone balance: $0\n"
     ]
    }
   ],
   "source": [
    "# If, Elif, Else\n",
    "# Last is the \"else\" clause, which must come at the END if used\n",
    "# else is conditional on all else being FALSE\n",
    "\n",
    "# step1: start with \"if\" keyword\n",
    "# step2: define the condition\n",
    "# step3: the condition to be checked closed with a colon\n",
    "# step4: indented code that is executed if condition is TRUE\n",
    "# step5: \"elif\" keyword checks for additonal stament and closed with colon\n",
    "# step6: \"else\" keyword closed with colon used if all is FALSE\n",
    "\n",
    "phone_balance = 5\n",
    "bank_balance = 50\n",
    "\n",
    "if phone_balance < 5:\n",
    "    phone_balance += 10\n",
    "    bank_balance -= 10\n",
    "elif phone_balance > 5:\n",
    "    phone_balance -= 2\n",
    "    print('make a phone call')\n",
    "    print(\"new phone balance: ${}\".format(phone_balance))\n",
    "else:\n",
    "    phone_balance -= 5\n",
    "    print('ET Phone Home')\n",
    "    print(\"new phone balance: ${}\".format(phone_balance))\n",
    "    "
   ]
  },
  {
   "cell_type": "markdown",
   "metadata": {},
   "source": [
    "### Complex Boolean Expressions"
   ]
  },
  {
   "cell_type": "code",
   "execution_count": 20,
   "metadata": {},
   "outputs": [
    {
     "name": "stdout",
     "output_type": "stream",
     "text": [
      "BMI is not considered 'normal'\n",
      "Is there a rainbow?\n",
      "send email\n"
     ]
    }
   ],
   "source": [
    "# If statements sometimes use more complicated boolean expressions\n",
    "\n",
    "#example 1: BETWEEN 2 VALUES\n",
    "weight = 75\n",
    "height = 1.72\n",
    "if 18.5 <= weight / height**2 < 25:\n",
    "    print(\"BMI is considered 'normal'\")\n",
    "else:\n",
    "    print(\"BMI is not considered 'normal'\")\n",
    "\n",
    "#example 2: BOOLEAN\n",
    "is_raining = True\n",
    "is_sunny = True\n",
    "if is_raining and is_sunny:\n",
    "    print(\"Is there a rainbow?\")\n",
    "    \n",
    "#example 3: NOT, AND, OR\n",
    "unsubscribed = False\n",
    "location = 'CAN'\n",
    "if (not unsubscribed) and (location == \"USA\" or location == \"CAN\"):\n",
    "    print(\"send email\")"
   ]
  },
  {
   "cell_type": "code",
   "execution_count": 25,
   "metadata": {},
   "outputs": [
    {
     "name": "stdout",
     "output_type": "stream",
     "text": [
      "Oh dear, with 58 points you won no prize this time.\n"
     ]
    }
   ],
   "source": [
    "import random\n",
    "# GAME\n",
    "# random points\n",
    "# set prize to None\n",
    "points = random.randint(0, 200)\n",
    "prize = None\n",
    "\n",
    "# use the value of points to assign prize to the correct prize name\n",
    "if points <= 50:\n",
    "    prize = \"wooden spoon\"\n",
    "elif 151 <= points <= 180:\n",
    "    prize = \"wafer-thin mint\"\n",
    "elif points >= 181:\n",
    "    prize = \"killer penguin\"\n",
    "\n",
    "# use the truth value of prize to assign result to the correct message\n",
    "if prize:\n",
    "    result = \"Congratulations! With {} points you won a {}!\".format(points,prize)\n",
    "else:\n",
    "    result = \"Oh dear, with {} points you won no prize this time.\".format(points)\n",
    "\n",
    "print(result)"
   ]
  },
  {
   "cell_type": "markdown",
   "metadata": {},
   "source": [
    "### For Loops\n",
    "\n",
    "ITERABLES: an object that can return one of it's object at a time. This can include sequence types, such as strings, lists, and tuples, as well as non-sequence types, such as dictionaries and files."
   ]
  },
  {
   "cell_type": "code",
   "execution_count": 39,
   "metadata": {},
   "outputs": [
    {
     "name": "stdout",
     "output_type": "stream",
     "text": [
      "loop number 1: is new york city\n",
      "loop number 2: is mountain view\n",
      "loop number 3: is chicago\n",
      "loop number 4: is los angeles\n",
      "looping done!\n"
     ]
    }
   ],
   "source": [
    "# FOR LOOP\n",
    "# loops code over iterbale each object\n",
    "\n",
    "# step1: start with \"for\" keyword\n",
    "# step2: define the \"iteration variable\" i.e city\n",
    "# step3: define the \"iterable\" being looped over i.e. cities\n",
    "# step4: the loop is closed with a colom\n",
    "# step5: define code (indented) executed in each iteration of this loop\n",
    "\n",
    "\n",
    "cities = ['new york city', 'mountain view', 'chicago', 'los angeles']\n",
    "loops = 0\n",
    "\n",
    "for city in cities:\n",
    "    loops += 1\n",
    "    print(\"loop number {}: is {}\".format(loops, city))\n",
    "    \n",
    "print(\"looping done!\")"
   ]
  },
  {
   "cell_type": "code",
   "execution_count": 50,
   "metadata": {},
   "outputs": [
    {
     "name": "stdout",
     "output_type": "stream",
     "text": [
      "range(0, 3)\n",
      "let's count 0:\n",
      "let's count 1:\n",
      "let's count 2:\n",
      "range(0, 10, 3)\n",
      "let's count 0:\n",
      "let's count 3:\n",
      "let's count 6:\n",
      "let's count 9:\n"
     ]
    }
   ],
   "source": [
    "#RANGE\n",
    "# range() is a built-in function used to create an iterable sequence of numbers\n",
    "x = range(3)\n",
    "print(x)\n",
    "\n",
    "# [i] is generally used as [i]terations\n",
    "for i in x:\n",
    "    print(\"let's count {}:\".format(i))\n",
    "\n",
    "# range() takes three int arguments\n",
    "    # range('start', 'stop'. 'step')\n",
    "    # 'start' argument is the first number of the sequence. (default = 0)\n",
    "    # 'stop' argument is 1 more than the last number of the sequence.\n",
    "    # 'step' argument is the difference between each number in the sequence. (default = 1) \n",
    "\n",
    "x = range(0, 10, 3)\n",
    "print(x)\n",
    "\n",
    "for i in x:\n",
    "    print(\"let's count {}:\".format(i))"
   ]
  },
  {
   "cell_type": "markdown",
   "metadata": {},
   "source": [
    "### Creating and Modifying Lists"
   ]
  },
  {
   "cell_type": "code",
   "execution_count": 55,
   "metadata": {},
   "outputs": [
    {
     "name": "stdout",
     "output_type": "stream",
     "text": [
      "['New York City']\n",
      "['New York City', 'Mountain View']\n",
      "['New York City', 'Mountain View', 'Chicago']\n",
      "['New York City', 'Mountain View', 'Chicago', 'Los Angeles']\n"
     ]
    }
   ],
   "source": [
    "# CREATE A NEW LIST\n",
    "\n",
    "# ORIGINAL and NEW defined befoe loop\n",
    "cities = ['new york city', 'mountain view', 'chicago', 'los angeles']\n",
    "capitalized_cities = []\n",
    "\n",
    "for city in cities:\n",
    "    capitalized_cities.append(city.title())\n",
    "    print(capitalized_cities)"
   ]
  },
  {
   "cell_type": "code",
   "execution_count": 59,
   "metadata": {},
   "outputs": [
    {
     "name": "stdout",
     "output_type": "stream",
     "text": [
      "0\n",
      "['New York City', 'mountain view', 'chicago', 'los angeles']\n",
      "1\n",
      "['New York City', 'Mountain View', 'chicago', 'los angeles']\n",
      "2\n",
      "['New York City', 'Mountain View', 'Chicago', 'los angeles']\n",
      "3\n",
      "['New York City', 'Mountain View', 'Chicago', 'Los Angeles']\n"
     ]
    }
   ],
   "source": [
    "# MODIFY A LIST\n",
    "# requires the range function that is looped over\n",
    "# acces the [index] of list using range\n",
    "cities = ['new york city', 'mountain view', 'chicago', 'los angeles']\n",
    "\n",
    "for i in range(len(cities)):\n",
    "    cities[i] = cities[i].title()\n",
    "    print(i)\n",
    "    print(cities)"
   ]
  },
  {
   "cell_type": "code",
   "execution_count": null,
   "metadata": {},
   "outputs": [],
   "source": []
  }
 ],
 "metadata": {
  "kernelspec": {
   "display_name": "Python 3",
   "language": "python",
   "name": "python3"
  },
  "language_info": {
   "codemirror_mode": {
    "name": "ipython",
    "version": 3
   },
   "file_extension": ".py",
   "mimetype": "text/x-python",
   "name": "python",
   "nbconvert_exporter": "python",
   "pygments_lexer": "ipython3",
   "version": "3.7.3"
  }
 },
 "nbformat": 4,
 "nbformat_minor": 2
}
