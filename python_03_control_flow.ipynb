{
 "cells": [
  {
   "cell_type": "markdown",
   "metadata": {},
   "source": [
    "# Control Flow\n",
    "- Conditional Statements\n",
    "- Boolean Expressions\n",
    "- For and While Loops\n",
    "- Break and Continue\n",
    "- Zip and Enumerate\n",
    "- List Comprehensions"
   ]
  },
  {
   "cell_type": "markdown",
   "metadata": {},
   "source": [
    "### Conditional Statements"
   ]
  },
  {
   "cell_type": "code",
   "execution_count": 11,
   "metadata": {},
   "outputs": [
    {
     "name": "stdout",
     "output_type": "stream",
     "text": [
      "new phone balance: $14, new bank_balance: $40\n"
     ]
    }
   ],
   "source": [
    "# IF STATMENTS\n",
    "# conditional statement that runs or skips code based on whether a condition is true or false\n",
    "\n",
    "# step1: start with \"if\" keyword\n",
    "# step2: define the condition\n",
    "# step3: the condition to be checked closed with a colon\n",
    "# step4: indented code that is executed if condition is TRUE\n",
    "\n",
    "phone_balance = 4\n",
    "bank_balance = 50\n",
    "\n",
    "if phone_balance < 5:\n",
    "    phone_balance += 10\n",
    "    bank_balance -= 10\n",
    "    print(\"new phone balance: ${}, new bank_balance: ${}\".format(phone_balance, bank_balance))"
   ]
  },
  {
   "cell_type": "code",
   "execution_count": 12,
   "metadata": {},
   "outputs": [
    {
     "name": "stdout",
     "output_type": "stream",
     "text": [
      "make a phone call\n",
      "new phone balance: $4, new bank_balance: $50\n"
     ]
    }
   ],
   "source": [
    "# If, Elif\n",
    "# Elif is an optional clause that can be used if first condiion is FALSE\n",
    "\n",
    "# step1: start with \"if\" keyword\n",
    "# step2: define the condition\n",
    "# step3: the condition to be checked closed with a colon\n",
    "# step4: indented code that is executed if condition is TRUE\n",
    "# step5: \"elif\" keyword checks for additonal stament and closed with colon\n",
    "\n",
    "phone_balance = 6\n",
    "bank_balance = 50\n",
    "\n",
    "if phone_balance < 5:\n",
    "    phone_balance += 10\n",
    "    bank_balance -= 10\n",
    "elif phone_balance > 5:\n",
    "    phone_balance -= 2\n",
    "    print('make a phone call')\n",
    "    print(\"new phone balance: ${}, new bank_balance: ${}\".format(phone_balance, bank_balance))"
   ]
  },
  {
   "cell_type": "code",
   "execution_count": 13,
   "metadata": {},
   "outputs": [
    {
     "name": "stdout",
     "output_type": "stream",
     "text": [
      "ET Phone Home\n",
      "new phone balance: $0\n"
     ]
    }
   ],
   "source": [
    "# If, Elif, Else\n",
    "# Last is the \"else\" clause, which must come at the END if used\n",
    "# else is conditional on all else being FALSE\n",
    "\n",
    "# step1: start with \"if\" keyword\n",
    "# step2: define the condition\n",
    "# step3: the condition to be checked closed with a colon\n",
    "# step4: indented code that is executed if condition is TRUE\n",
    "# step5: \"elif\" keyword checks for additonal stament and closed with colon\n",
    "# step6: \"else\" keyword closed with colon used if all is FALSE\n",
    "\n",
    "phone_balance = 5\n",
    "bank_balance = 50\n",
    "\n",
    "if phone_balance < 5:\n",
    "    phone_balance += 10\n",
    "    bank_balance -= 10\n",
    "elif phone_balance > 5:\n",
    "    phone_balance -= 2\n",
    "    print('make a phone call')\n",
    "    print(\"new phone balance: ${}\".format(phone_balance))\n",
    "else:\n",
    "    phone_balance -= 5\n",
    "    print('ET Phone Home')\n",
    "    print(\"new phone balance: ${}\".format(phone_balance))\n",
    "    "
   ]
  },
  {
   "cell_type": "markdown",
   "metadata": {},
   "source": [
    "### Complex Boolean Expressions"
   ]
  },
  {
   "cell_type": "code",
   "execution_count": 20,
   "metadata": {},
   "outputs": [
    {
     "name": "stdout",
     "output_type": "stream",
     "text": [
      "BMI is not considered 'normal'\n",
      "Is there a rainbow?\n",
      "send email\n"
     ]
    }
   ],
   "source": [
    "# If statements sometimes use more complicated boolean expressions\n",
    "\n",
    "#example 1: BETWEEN 2 VALUES\n",
    "weight = 75\n",
    "height = 1.72\n",
    "if 18.5 <= weight / height**2 < 25:\n",
    "    print(\"BMI is considered 'normal'\")\n",
    "else:\n",
    "    print(\"BMI is not considered 'normal'\")\n",
    "\n",
    "#example 2: BOOLEAN\n",
    "is_raining = True\n",
    "is_sunny = True\n",
    "if is_raining and is_sunny:\n",
    "    print(\"Is there a rainbow?\")\n",
    "    \n",
    "#example 3: NOT, AND, OR\n",
    "unsubscribed = False\n",
    "location = 'CAN'\n",
    "if (not unsubscribed) and (location == \"USA\" or location == \"CAN\"):\n",
    "    print(\"send email\")"
   ]
  },
  {
   "cell_type": "code",
   "execution_count": 25,
   "metadata": {},
   "outputs": [
    {
     "name": "stdout",
     "output_type": "stream",
     "text": [
      "Oh dear, with 58 points you won no prize this time.\n"
     ]
    }
   ],
   "source": [
    "import random\n",
    "# GAME\n",
    "# random points\n",
    "# set prize to None\n",
    "points = random.randint(0, 200)\n",
    "prize = None\n",
    "\n",
    "# use the value of points to assign prize to the correct prize name\n",
    "if points <= 50:\n",
    "    prize = \"wooden spoon\"\n",
    "elif 151 <= points <= 180:\n",
    "    prize = \"wafer-thin mint\"\n",
    "elif points >= 181:\n",
    "    prize = \"killer penguin\"\n",
    "\n",
    "# use the truth value of prize to assign result to the correct message\n",
    "if prize:\n",
    "    result = \"Congratulations! With {} points you won a {}!\".format(points,prize)\n",
    "else:\n",
    "    result = \"Oh dear, with {} points you won no prize this time.\".format(points)\n",
    "\n",
    "print(result)"
   ]
  },
  {
   "cell_type": "markdown",
   "metadata": {},
   "source": [
    "### For Loops\n",
    "\n",
    "ITERABLES: an object that can return one of it's object at a time. This can include sequence types, such as strings, lists, and tuples, as well as non-sequence types, such as dictionaries and files."
   ]
  },
  {
   "cell_type": "code",
   "execution_count": 39,
   "metadata": {},
   "outputs": [
    {
     "name": "stdout",
     "output_type": "stream",
     "text": [
      "loop number 1: is new york city\n",
      "loop number 2: is mountain view\n",
      "loop number 3: is chicago\n",
      "loop number 4: is los angeles\n",
      "looping done!\n"
     ]
    }
   ],
   "source": [
    "# FOR LOOP\n",
    "# loops code over iterbale each object\n",
    "\n",
    "# step1: start with \"for\" keyword\n",
    "# step2: define the \"iteration variable\" i.e city\n",
    "# step3: define the \"iterable\" being looped over i.e. cities\n",
    "# step4: the loop is closed with a colom\n",
    "# step5: define code (indented) executed in each iteration of this loop\n",
    "\n",
    "\n",
    "cities = ['new york city', 'mountain view', 'chicago', 'los angeles']\n",
    "loops = 0\n",
    "\n",
    "for city in cities:\n",
    "    loops += 1\n",
    "    print(\"loop number {}: is {}\".format(loops, city))\n",
    "    \n",
    "print(\"looping done!\")"
   ]
  },
  {
   "cell_type": "code",
   "execution_count": 50,
   "metadata": {},
   "outputs": [
    {
     "name": "stdout",
     "output_type": "stream",
     "text": [
      "range(0, 3)\n",
      "let's count 0:\n",
      "let's count 1:\n",
      "let's count 2:\n",
      "range(0, 10, 3)\n",
      "let's count 0:\n",
      "let's count 3:\n",
      "let's count 6:\n",
      "let's count 9:\n"
     ]
    }
   ],
   "source": [
    "#RANGE\n",
    "# range() is a built-in function used to create an iterable sequence of numbers\n",
    "x = range(3)\n",
    "print(x)\n",
    "\n",
    "# [i] is generally used as [i]terations\n",
    "for i in x:\n",
    "    print(\"let's count {}:\".format(i))\n",
    "\n",
    "# range() takes three int arguments\n",
    "    # range('start', 'stop'. 'step')\n",
    "    # 'start' argument is the first number of the sequence. (default = 0)\n",
    "    # 'stop' argument is 1 more than the last number of the sequence.\n",
    "    # 'step' argument is the difference between each number in the sequence. (default = 1) \n",
    "\n",
    "x = range(0, 10, 3)\n",
    "print(x)\n",
    "\n",
    "for i in x:\n",
    "    print(\"let's count {}:\".format(i))"
   ]
  },
  {
   "cell_type": "code",
   "execution_count": 29,
   "metadata": {},
   "outputs": [
    {
     "name": "stdout",
     "output_type": "stream",
     "text": [
      "factorial of 1 equals 1\n",
      "factorial of 2 equals 2\n",
      "factorial of 3 equals 6\n",
      "factorial of 4 equals 24\n",
      "factorial of 5 equals 120\n",
      "factorial of 6 equals 720\n",
      "720\n"
     ]
    }
   ],
   "source": [
    "# Factorials with FOR Loops\n",
    "# A factorial of a whole number is that number multiplied by every whole number between itself and 1\n",
    "\n",
    "# find factorial of 6\n",
    "number = 6   \n",
    "product = 1\n",
    "\n",
    "for i in range(product, number + 1):\n",
    "    product *= i\n",
    "    print(\"factorial of {} equals {}\".format(i, product))"
   ]
  },
  {
   "cell_type": "markdown",
   "metadata": {},
   "source": [
    "### Creating and Modifying Lists"
   ]
  },
  {
   "cell_type": "code",
   "execution_count": 55,
   "metadata": {},
   "outputs": [
    {
     "name": "stdout",
     "output_type": "stream",
     "text": [
      "['New York City']\n",
      "['New York City', 'Mountain View']\n",
      "['New York City', 'Mountain View', 'Chicago']\n",
      "['New York City', 'Mountain View', 'Chicago', 'Los Angeles']\n"
     ]
    }
   ],
   "source": [
    "# CREATE A NEW LIST\n",
    "\n",
    "# ORIGINAL and NEW defined befoe loop\n",
    "cities = ['new york city', 'mountain view', 'chicago', 'los angeles']\n",
    "capitalized_cities = []\n",
    "\n",
    "for city in cities:\n",
    "    capitalized_cities.append(city.title())\n",
    "    print(capitalized_cities)"
   ]
  },
  {
   "cell_type": "code",
   "execution_count": 62,
   "metadata": {},
   "outputs": [
    {
     "name": "stdout",
     "output_type": "stream",
     "text": [
      "New York City\n",
      "Mountain View\n",
      "Chicago\n",
      "Los Angeles\n",
      "now all capitalised: ['New York City', 'Mountain View', 'Chicago', 'Los Angeles']\n"
     ]
    }
   ],
   "source": [
    "# MODIFY A LIST\n",
    "# requires the range function that is looped over\n",
    "# acces the [index] of list using range\n",
    "cities = ['new york city', 'mountain view', 'chicago', 'los angeles']\n",
    "\n",
    "for i in range(len(cities)):\n",
    "    cities[i] = cities[i].title()\n",
    "    print(cities[i])\n",
    "\n",
    "print(\"now all capitalised: {}\".format(cities))"
   ]
  },
  {
   "cell_type": "code",
   "execution_count": 63,
   "metadata": {},
   "outputs": [
    {
     "name": "stdout",
     "output_type": "stream",
     "text": [
      "5\n",
      "10\n",
      "15\n",
      "20\n",
      "25\n",
      "30\n"
     ]
    }
   ],
   "source": [
    "# FOR AND IF\n",
    "\n",
    "# to print values > 0 in multiples of 5\n",
    "for i in range(0, 31, 5):\n",
    "    if i > 0:\n",
    "        print(i)"
   ]
  },
  {
   "cell_type": "code",
   "execution_count": 64,
   "metadata": {},
   "outputs": [
    {
     "name": "stdout",
     "output_type": "stream",
     "text": [
      "<ul>\n",
      "<li>google.com</li>\n",
      "<li>facebook.com</li>\n",
      "</ul>\n"
     ]
    }
   ],
   "source": [
    "# STRINGS AND NEW LINE \\n\n",
    "    # want to print strings on a newline\n",
    "    # \\n ... is the character that marks the end of the a line\n",
    "\n",
    "urls = ['google.com', 'facebook.com']\n",
    "html_str = \"<ul>\\n\"  \n",
    "\n",
    "for url in urls:\n",
    "    html_str += \"<li>{}</li>\\n\".format(url)\n",
    "\n",
    "html_str += \"</ul>\"\n",
    "print(html_str)"
   ]
  },
  {
   "cell_type": "markdown",
   "metadata": {},
   "source": [
    "### Building Dictionaries\n",
    "1. counting with \"for loops\"\n",
    "2. the dictionary \"get\" method"
   ]
  },
  {
   "cell_type": "code",
   "execution_count": 70,
   "metadata": {},
   "outputs": [
    {
     "name": "stdout",
     "output_type": "stream",
     "text": [
      "method 1 result {'great': 2, 'expectations': 1, 'the': 2, 'adventures': 2, 'of': 2, 'sherlock': 1, 'holmes': 1, 'gasby': 1, 'hamlet': 1, 'huckleberry': 1, 'fin': 1}\n",
      "method 2 result {'great': 2, 'expectations': 1, 'the': 2, 'adventures': 2, 'of': 2, 'sherlock': 1, 'holmes': 1, 'gasby': 1, 'hamlet': 1, 'huckleberry': 1, 'fin': 1}\n"
     ]
    }
   ],
   "source": [
    "# create DICTIOPNARUY with word counts\n",
    "\n",
    "# step1: define empty dictionary{}\n",
    "# step2: start with \"for\" keyword\n",
    "# step3: define the \"iteration variable\" i.e city\n",
    "# step4: define the \"iterable\" being looped over i.e. cities\n",
    "# step5: the loop is closed with a colom\n",
    "# step6: define code (indented) executed in each iteration of this loop\n",
    "# check if the 'word' is already assigned in 'word_counter'\n",
    "    # if NOT IN is TRUE then count as 1\n",
    "    # if NOT IN is FALSE then count up +=\n",
    "    \n",
    "# METHOD 1\n",
    "book_title =  ['great', 'expectations','the', 'adventures', 'of', 'sherlock','holmes','the','great','gasby','hamlet','adventures','of','huckleberry','fin']\n",
    "word_counter = {}\n",
    "\n",
    "for word in book_title:\n",
    "    if word not in word_counter:\n",
    "        word_counter[word] = 1\n",
    "    else:\n",
    "        word_counter[word] += 1\n",
    "\n",
    "print(\"method 1 result: {}\".format(word_counter))\n",
    "\n",
    "\n",
    "# METHOD 2 using get()\n",
    "# get() is used to get the value\n",
    "    # get(word, 0)\n",
    "    # if not in rather than returning NONE, 0 is return and 1 added to it\n",
    "book_title =  ['great', 'expectations','the', 'adventures', 'of', 'sherlock','holmes','the','great','gasby','hamlet','adventures','of','huckleberry','fin']\n",
    "word_counter = {}\n",
    "\n",
    "for word in book_title:\n",
    "    word_counter[word] = word_counter.get(word, 0) + 1\n",
    "\n",
    "print(\"method 2 result: {}\".format(word_counter))"
   ]
  },
  {
   "cell_type": "markdown",
   "metadata": {},
   "source": [
    "### Iterating Through Dictionaries with For Loops\n",
    "- want to iterate through both the keys and values\n",
    "- use the built-in method items() to iterate through values"
   ]
  },
  {
   "cell_type": "code",
   "execution_count": 5,
   "metadata": {},
   "outputs": [
    {
     "name": "stdout",
     "output_type": "stream",
     "text": [
      "hydrogen\n",
      "helium\n",
      "carbon\n"
     ]
    }
   ],
   "source": [
    "# to iterate through the KEYS\n",
    "elements = {\"hydrogen\": 1, \"helium\": 2, \"carbon\": 6}\n",
    "\n",
    "for element in elements:\n",
    "    print(element)"
   ]
  },
  {
   "cell_type": "code",
   "execution_count": 8,
   "metadata": {},
   "outputs": [
    {
     "name": "stdout",
     "output_type": "stream",
     "text": [
      "key: hydrogen, value: 1\n",
      "key: helium, value: 2\n",
      "key: carbon, value: 6\n"
     ]
    }
   ],
   "source": [
    "# to iterate through the KEYS and VALUES use method \".items()\"\n",
    "elements = {\"hydrogen\": 1, \"helium\": 2, \"carbon\": 6}\n",
    "\n",
    "for element, value in elements.items():\n",
    "    print(\"key: {}, value: {}\".format(element, value))"
   ]
  },
  {
   "cell_type": "code",
   "execution_count": 10,
   "metadata": {},
   "outputs": [
    {
     "name": "stdout",
     "output_type": "stream",
     "text": [
      "fruits: 23, non fruits: 11\n"
     ]
    }
   ],
   "source": [
    "# using DICT and LIST to count fruits and non fruits!\n",
    "\n",
    "fruit_count, not_fruit_count = 0, 0\n",
    "basket_items = {'apples': 4, 'oranges': 19, 'kites': 3, 'sandwiches': 8}\n",
    "fruits = ['apples', 'oranges', 'pears', 'peaches', 'grapes', 'bananas']\n",
    "\n",
    "#Iterate through the dictionary\n",
    "for key, value in basket_items.items():\n",
    "    if key in fruits:\n",
    "        fruit_count += value\n",
    "    else:\n",
    "        not_fruit_count += value\n",
    "\n",
    "print(\"fruits: {}, non fruits: {}\".format(fruit_count, not_fruit_count))"
   ]
  },
  {
   "cell_type": "markdown",
   "metadata": {},
   "source": [
    "### While Loops\n",
    "- \"indefinite iteration\" which is when a loop repeats an unknown number of times and ends when some condition is met"
   ]
  },
  {
   "cell_type": "code",
   "execution_count": 21,
   "metadata": {},
   "outputs": [
    {
     "name": "stdout",
     "output_type": "stream",
     "text": [
      "[8]\n",
      "8\n",
      "[8, 11]\n",
      "19\n",
      "final result: 19\n"
     ]
    }
   ],
   "source": [
    "# WHILE Loop\n",
    "\n",
    "# step1: start with \"while\" keyword\n",
    "# step2: define the condition\n",
    "# step3: the condition to be checked closed with a colon\n",
    "# step4: indented code that is executed if condition is TRUE\n",
    "\n",
    "import random #used for random.choice\n",
    "\n",
    "card_deck = [4, 11, 8, 5, 13, 2, 8, 10]\n",
    "hand = []\n",
    "\n",
    "while sum(hand)  < 17:\n",
    "    hand.append(random.choice(card_deck))\n",
    "    print(hand)\n",
    "    print(sum(hand))\n",
    "\n",
    "print(\"final result: {}\".format(sum(hand)))"
   ]
  },
  {
   "cell_type": "code",
   "execution_count": 27,
   "metadata": {},
   "outputs": [
    {
     "name": "stdout",
     "output_type": "stream",
     "text": [
      "factorial of 1 equals 1\n",
      "factorial of 2 equals 2\n",
      "factorial of 3 equals 6\n",
      "factorial of 4 equals 24\n",
      "factorial of 5 equals 120\n",
      "factorial of 6 equals 720\n"
     ]
    }
   ],
   "source": [
    "# Factorials with While Loops\n",
    "# A factorial of a whole number is that number multiplied by every whole number between itself and 1\n",
    "\n",
    "# find factorial of 6\n",
    "number = 6   \n",
    "product = 1\n",
    "current = 1\n",
    "\n",
    "while current <= number:\n",
    "    product *= current\n",
    "    current += 1\n",
    "    print(\"factorial of {} equals {}\".format(current-1, product))"
   ]
  },
  {
   "cell_type": "code",
   "execution_count": null,
   "metadata": {},
   "outputs": [],
   "source": []
  }
 ],
 "metadata": {
  "kernelspec": {
   "display_name": "Python 3",
   "language": "python",
   "name": "python3"
  },
  "language_info": {
   "codemirror_mode": {
    "name": "ipython",
    "version": 3
   },
   "file_extension": ".py",
   "mimetype": "text/x-python",
   "name": "python",
   "nbconvert_exporter": "python",
   "pygments_lexer": "ipython3",
   "version": "3.7.3"
  }
 },
 "nbformat": 4,
 "nbformat_minor": 2
}
