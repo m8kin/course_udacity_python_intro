{
 "cells": [
  {
   "cell_type": "markdown",
   "metadata": {},
   "source": [
    "# SCRIPTING\n",
    "\n",
    "- Interacting with User Input\n",
    "- Handling Exceptions\n",
    "- Reading and Writing Files\n",
    "- Importing Local, Standard, and Third-Party Modules\n",
    "- Experimenting with an Interpreter"
   ]
  },
  {
   "cell_type": "markdown",
   "metadata": {},
   "source": [
    "### TRY statements and error\n",
    "\n",
    "We can use try statements to handle exceptions. There are four clauses you can use"
   ]
  },
  {
   "cell_type": "code",
   "execution_count": 5,
   "metadata": {
    "scrolled": true
   },
   "outputs": [
    {
     "name": "stdout",
     "output_type": "stream",
     "text": [
      "Enter a number: ten\n"
     ]
    },
    {
     "ename": "ValueError",
     "evalue": "invalid literal for int() with base 10: 'ten'",
     "output_type": "error",
     "traceback": [
      "\u001b[1;31m---------------------------------------------------------------------------\u001b[0m",
      "\u001b[1;31mValueError\u001b[0m                                Traceback (most recent call last)",
      "\u001b[1;32m<ipython-input-5-3881563e76c5>\u001b[0m in \u001b[0;36m<module>\u001b[1;34m\u001b[0m\n\u001b[0;32m      1\u001b[0m \u001b[1;31m# ValueError: when inputing the word 'ten'\u001b[0m\u001b[1;33m\u001b[0m\u001b[1;33m\u001b[0m\u001b[1;33m\u001b[0m\u001b[0m\n\u001b[0;32m      2\u001b[0m \u001b[1;33m\u001b[0m\u001b[0m\n\u001b[1;32m----> 3\u001b[1;33m \u001b[0mx\u001b[0m \u001b[1;33m=\u001b[0m \u001b[0mint\u001b[0m\u001b[1;33m(\u001b[0m\u001b[0minput\u001b[0m\u001b[1;33m(\u001b[0m\u001b[1;34m\"Enter a number: \"\u001b[0m\u001b[1;33m)\u001b[0m\u001b[1;33m)\u001b[0m\u001b[1;33m\u001b[0m\u001b[1;33m\u001b[0m\u001b[0m\n\u001b[0m",
      "\u001b[1;31mValueError\u001b[0m: invalid literal for int() with base 10: 'ten'"
     ]
    }
   ],
   "source": [
    "# ValueError: when inputing the word 'ten'\n",
    "\n",
    "x = int(input(\"Enter a number: \"))"
   ]
  },
  {
   "cell_type": "code",
   "execution_count": 10,
   "metadata": {},
   "outputs": [
    {
     "name": "stdout",
     "output_type": "stream",
     "text": [
      "Enter a number: ten\n",
      "That is not a valid number, please use numeric values!\n"
     ]
    }
   ],
   "source": [
    "# TRY (input \"ten\")\n",
    "\n",
    "# step1: start with TRY:\n",
    "# step2: define some code to run\n",
    "# step3: EXCEPT and ERROR TYPE\n",
    "# step4: define some code to run if error is thrown\n",
    "\n",
    "try:\n",
    "    x = int(input(\"Enter a number: \"))\n",
    "    print(\"You're number is {}, good for yoy\".format(x))\n",
    "except ValueError:\n",
    "   print(\"That is not a valid number, please use numeric values!\")"
   ]
  },
  {
   "cell_type": "code",
   "execution_count": null,
   "metadata": {},
   "outputs": [],
   "source": [
    "# Can use try for multiple errors types\n",
    "\n",
    "# METHIOD 1 (handle all at once)\n",
    "try:\n",
    "    x = int(input(\"Enter a number: \"))\n",
    "    print(\"You're number is {}, good for you\".format(x))\n",
    "except (ValueError, KeyboardInterrupt):\n",
    "     print(\"There was an error!\")"
   ]
  },
  {
   "cell_type": "code",
   "execution_count": null,
   "metadata": {},
   "outputs": [],
   "source": [
    "# METHIOD 2 (handle independently)\n",
    "try:\n",
    "    x = int(input(\"Enter a number: \"))\n",
    "    print(\"You're number is {}, good for yoy\".format(x))\n",
    "except ValueError:\n",
    "     print(\"That is not a valid number, please use numeric values!\")\n",
    "except KeyboardInterrupt:\n",
    "     print(\"You bumped a naughty key on your keyboard\")"
   ]
  },
  {
   "cell_type": "code",
   "execution_count": 3,
   "metadata": {},
   "outputs": [
    {
     "name": "stdout",
     "output_type": "stream",
     "text": [
      "Enter a number: ten\n",
      "That is not a valid number, please use numeric values!\n",
      "\n",
      "Attempted Input\n",
      "Enter a number: eleven\n",
      "That is not a valid number, please use numeric values!\n",
      "\n",
      "Attempted Input\n",
      "Enter a number: 10\n",
      "\n",
      "You're number is 10, good for you\n",
      "\n",
      "Attempted Input\n"
     ]
    }
   ],
   "source": [
    "# Using WHILE TRUE will keep the user input open until a real input is valid!\n",
    "\n",
    "# step1: start with WHILE TRUE then colon\n",
    "# step2: TRY statement:\n",
    "# step3: conclude TRY with BREAK to end the while loop:\n",
    "# step4: define EXCEPT statement with or without the ERROR TYPE\n",
    "# step5: define some code to run if ERROR is thrown\n",
    "# step6: define a FINALLY statement if required (will always run after TRY and EXCEPT)\n",
    "\n",
    "while True:\n",
    "    try:\n",
    "        x = int(input(\"Enter a number: \"))\n",
    "        print(\"\\nYou're number is {}, good for you\".format(x))\n",
    "        break\n",
    "    except:\n",
    "        print(\"That is not a valid number, please use numeric values!\")     \n",
    "    finally:\n",
    "        print(\"\\nAttempted Input\\n\")"
   ]
  },
  {
   "cell_type": "markdown",
   "metadata": {},
   "source": [
    "### Accessing Error Messages\n",
    "\n",
    "rather than having an error message thrown you can print the error message in the EXCEPTION. this allows for the program to still run"
   ]
  },
  {
   "cell_type": "code",
   "execution_count": 7,
   "metadata": {},
   "outputs": [
    {
     "name": "stdout",
     "output_type": "stream",
     "text": [
      "Enter a number: 10\n",
      "You're number is 10, good for yoy\n"
     ]
    }
   ],
   "source": [
    "# Accessing Error Messages\n",
    "\n",
    "try:\n",
    "    x = int(input(\"Enter a number: \"))\n",
    "    print(\"You're number is {}, good for yoy\".format(x))\n",
    "except ValueError as message:\n",
    "   print(\"ValueError occurred: {}\".format(message))"
   ]
  },
  {
   "cell_type": "markdown",
   "metadata": {},
   "source": [
    "### Reading and Writing Files\n",
    "\n",
    "Accessing files from python"
   ]
  },
  {
   "cell_type": "code",
   "execution_count": null,
   "metadata": {},
   "outputs": [],
   "source": []
  }
 ],
 "metadata": {
  "kernelspec": {
   "display_name": "Python 3",
   "language": "python",
   "name": "python3"
  },
  "language_info": {
   "codemirror_mode": {
    "name": "ipython",
    "version": 3
   },
   "file_extension": ".py",
   "mimetype": "text/x-python",
   "name": "python",
   "nbconvert_exporter": "python",
   "pygments_lexer": "ipython3",
   "version": "3.7.7"
  }
 },
 "nbformat": 4,
 "nbformat_minor": 2
}
