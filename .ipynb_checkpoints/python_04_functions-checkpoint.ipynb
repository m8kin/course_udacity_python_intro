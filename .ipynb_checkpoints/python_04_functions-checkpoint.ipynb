{
 "cells": [
  {
   "cell_type": "markdown",
   "metadata": {},
   "source": [
    "### Functions\n",
    "\n",
    "- Defining Functions & Documentation\n",
    "- Variable Scope\n",
    "- Lambda Expressions\n",
    "- Map and Filter (Iterators and Generators)\n",
    "- Generator Functions"
   ]
  },
  {
   "cell_type": "markdown",
   "metadata": {},
   "source": [
    "### Defining FUNCTIONS"
   ]
  },
  {
   "cell_type": "code",
   "execution_count": 32,
   "metadata": {},
   "outputs": [
    {
     "name": "stdout",
     "output_type": "stream",
     "text": [
      "volume of with a height of 10 and a radius of 2 = 125.6636\n"
     ]
    }
   ],
   "source": [
    "# defining FUNCTIONS\n",
    "\n",
    "# step1: define FUNCTION HEADER using DEF \n",
    "# step2: define FUNCTION NAME then open parantheses\n",
    "# step3: define FUNCTION'S ARGUMENTS inside parentheses (these are INPUTS into the function)\n",
    "# step4: close function with parentheses and colon\n",
    "# step5: write the functions DEFINITION inside \"\"\"    \"\"\"... known as DOCSTRING\n",
    "# step6: on INDENTS write the FUNCTION BODY\n",
    "# step7: explicit what the function will RETURN\n",
    "\n",
    "height = 10\n",
    "radius = 2\n",
    "\n",
    "def cylinder_volume(height, radius):\n",
    "    \"\"\"\n",
    "    Find the volume of a cylinder\n",
    "    \n",
    "    INPUT: \n",
    "    height: float. cylinder height\n",
    "    radius: float. cylinder radius\n",
    "    \n",
    "    OUTPUT:\n",
    "    cylinder_volume: float. cylinder volume\n",
    "    formula: height * pi * radius ** 2\n",
    "    \"\"\"\n",
    "    pi = 3.14159\n",
    "    return height * pi * radius ** 2\n",
    "\n",
    "volume = cylinder_volume(height, radius)\n",
    "print(\"volume of with a height of {} and a radius of {} = {}\".format(height, radius, volume))"
   ]
  },
  {
   "cell_type": "code",
   "execution_count": 15,
   "metadata": {},
   "outputs": [
    {
     "name": "stdout",
     "output_type": "stream",
     "text": [
      "volume of with a height of 10 and a radius of 5 = 785.3975\n"
     ]
    }
   ],
   "source": [
    "# SETTING DEFAULT VALUES\n",
    "# radius is not defined but default is set to 5\n",
    "# NOTE we have to RETURN radius as well or the print won't work!!!\n",
    "\n",
    "height = 10\n",
    "\n",
    "def cylinder_volume(height, radius=5):\n",
    "    \"\"\"\n",
    "    Find the volume of a cylinder\n",
    "    \n",
    "    INPUT: \n",
    "    height: float. cylinder height\n",
    "    radius: float. cylinder radius\n",
    "    \n",
    "    OUTPUT:\n",
    "    cylinder_volume: float. cylinder volume\n",
    "    formula: height * pi * radius ** 2\n",
    "    \"\"\"\n",
    "    pi = 3.14159\n",
    "    return height * pi * radius ** 2, radius\n",
    "\n",
    "volume, radius = cylinder_volume(height)\n",
    "print(\"volume of with a height of {} and a radius of {} = {}\".format(height, radius, volume))"
   ]
  },
  {
   "cell_type": "code",
   "execution_count": 22,
   "metadata": {},
   "outputs": [
    {
     "name": "stdout",
     "output_type": "stream",
     "text": [
      "1 week(s) and 3 day(s).\n"
     ]
    }
   ],
   "source": [
    "# RETURN a STRING\n",
    "def readable_timedelta(days):\n",
    "    weeks = str(days // 7)\n",
    "    remainder = str(days % 7)\n",
    "    return \"{} week(s) and {} day(s).\".format(weeks, remainder)\n",
    "    \n",
    "\n",
    "# test your function\n",
    "print(readable_timedelta(10))"
   ]
  },
  {
   "cell_type": "markdown",
   "metadata": {},
   "source": [
    "### Variable Scope\n",
    "- refers to which parts of a program a variable can be referenced, or used, from\n",
    "- variables can be define INSIDE or OUTSIDE a function\n",
    "- Good practice: It is best to define variables in the smallest scope they will be needed in. if only inside then inside"
   ]
  },
  {
   "cell_type": "code",
   "execution_count": 23,
   "metadata": {},
   "outputs": [
    {
     "ename": "NameError",
     "evalue": "name 'word' is not defined",
     "output_type": "error",
     "traceback": [
      "\u001b[1;31m---------------------------------------------------------------------------\u001b[0m",
      "\u001b[1;31mNameError\u001b[0m                                 Traceback (most recent call last)",
      "\u001b[1;32m<ipython-input-23-b1a1a66d919d>\u001b[0m in \u001b[0;36m<module>\u001b[1;34m\u001b[0m\n\u001b[0;32m      4\u001b[0m     \u001b[0mword\u001b[0m \u001b[1;33m=\u001b[0m \u001b[1;34m\"hello\"\u001b[0m\u001b[1;33m\u001b[0m\u001b[1;33m\u001b[0m\u001b[0m\n\u001b[0;32m      5\u001b[0m \u001b[1;33m\u001b[0m\u001b[0m\n\u001b[1;32m----> 6\u001b[1;33m \u001b[0mprint\u001b[0m\u001b[1;33m(\u001b[0m\u001b[0mword\u001b[0m\u001b[1;33m)\u001b[0m\u001b[1;33m\u001b[0m\u001b[1;33m\u001b[0m\u001b[0m\n\u001b[0m",
      "\u001b[1;31mNameError\u001b[0m: name 'word' is not defined"
     ]
    }
   ],
   "source": [
    "# the VARIABLE word is define INSIDE the function \n",
    "# resulting in an error\n",
    "def some_function():\n",
    "    word = \"hello\"\n",
    "\n",
    "print(word)"
   ]
  },
  {
   "cell_type": "code",
   "execution_count": 25,
   "metadata": {},
   "outputs": [
    {
     "name": "stdout",
     "output_type": "stream",
     "text": [
      "hello\n"
     ]
    }
   ],
   "source": [
    "# the VARIABLE word is define OUTSIDE the function \n",
    "# this doesn't result in an error\n",
    "word = \"hello\"\n",
    "\n",
    "def print_function():\n",
    "    print(word)\n",
    "\n",
    "print_function()"
   ]
  },
  {
   "cell_type": "code",
   "execution_count": 31,
   "metadata": {},
   "outputs": [
    {
     "ename": "UnboundLocalError",
     "evalue": "local variable 'egg_count' referenced before assignment",
     "output_type": "error",
     "traceback": [
      "\u001b[1;31m---------------------------------------------------------------------------\u001b[0m",
      "\u001b[1;31mUnboundLocalError\u001b[0m                         Traceback (most recent call last)",
      "\u001b[1;32m<ipython-input-31-80934c93add1>\u001b[0m in \u001b[0;36m<module>\u001b[1;34m\u001b[0m\n\u001b[0;32m      8\u001b[0m     \u001b[0megg_count\u001b[0m \u001b[1;33m+=\u001b[0m \u001b[1;36m12\u001b[0m \u001b[1;31m# purchase a dozen eggs\u001b[0m\u001b[1;33m\u001b[0m\u001b[1;33m\u001b[0m\u001b[0m\n\u001b[0;32m      9\u001b[0m \u001b[1;33m\u001b[0m\u001b[0m\n\u001b[1;32m---> 10\u001b[1;33m \u001b[0mbuy_eggs\u001b[0m\u001b[1;33m(\u001b[0m\u001b[1;33m)\u001b[0m\u001b[1;33m\u001b[0m\u001b[1;33m\u001b[0m\u001b[0m\n\u001b[0m",
      "\u001b[1;32m<ipython-input-31-80934c93add1>\u001b[0m in \u001b[0;36mbuy_eggs\u001b[1;34m()\u001b[0m\n\u001b[0;32m      6\u001b[0m \u001b[1;33m\u001b[0m\u001b[0m\n\u001b[0;32m      7\u001b[0m \u001b[1;32mdef\u001b[0m \u001b[0mbuy_eggs\u001b[0m\u001b[1;33m(\u001b[0m\u001b[1;33m)\u001b[0m\u001b[1;33m:\u001b[0m\u001b[1;33m\u001b[0m\u001b[1;33m\u001b[0m\u001b[0m\n\u001b[1;32m----> 8\u001b[1;33m     \u001b[0megg_count\u001b[0m \u001b[1;33m+=\u001b[0m \u001b[1;36m12\u001b[0m \u001b[1;31m# purchase a dozen eggs\u001b[0m\u001b[1;33m\u001b[0m\u001b[1;33m\u001b[0m\u001b[0m\n\u001b[0m\u001b[0;32m      9\u001b[0m \u001b[1;33m\u001b[0m\u001b[0m\n\u001b[0;32m     10\u001b[0m \u001b[0mbuy_eggs\u001b[0m\u001b[1;33m(\u001b[0m\u001b[1;33m)\u001b[0m\u001b[1;33m\u001b[0m\u001b[1;33m\u001b[0m\u001b[0m\n",
      "\u001b[1;31mUnboundLocalError\u001b[0m: local variable 'egg_count' referenced before assignment"
     ]
    }
   ],
   "source": [
    "# both INSIDE and OUTSIDE\n",
    "# results in an UnboundLocalError error\n",
    "# Python doesn't allow functions to modify variables that are outside the function's scope\n",
    "\n",
    "egg_count = 0\n",
    "\n",
    "def buy_eggs():\n",
    "    egg_count += 12 # purchase a dozen eggs\n",
    "\n",
    "buy_eggs()"
   ]
  },
  {
   "cell_type": "markdown",
   "metadata": {},
   "source": [
    "### Lambda Expressions\n",
    "- unnamed functions\n",
    "- function is only used once\n",
    "- good for short simple functions"
   ]
  },
  {
   "cell_type": "code",
   "execution_count": 34,
   "metadata": {},
   "outputs": [
    {
     "name": "stdout",
     "output_type": "stream",
     "text": [
      "8\n",
      "8\n"
     ]
    }
   ],
   "source": [
    "# LAMBDA function\n",
    "\n",
    "# step1: LAMBDA keyword is used to indicate that this is a lambda expression\n",
    "# step2: define the ARGUMENTS\n",
    "# step3: follow with colon\n",
    "# step4: define the FUNCTION\n",
    "\n",
    "# FUNCTION\n",
    "def multiply1(x, y):\n",
    "    return x * y\n",
    "\n",
    "print(multiply1(2,4))\n",
    "\n",
    "\n",
    "# LAMBDA FUNCTION\n",
    "multiply2 = lambda x, y: x * y\n",
    "print(multiply2(2,4))\n"
   ]
  },
  {
   "cell_type": "markdown",
   "metadata": {},
   "source": [
    "### MAP\n",
    "- MAP is used to iterate a function over lists"
   ]
  },
  {
   "cell_type": "code",
   "execution_count": 45,
   "metadata": {},
   "outputs": [
    {
     "name": "stdout",
     "output_type": "stream",
     "text": [
      "average of each list: [57.0, 58.2, 50.6, 27.2]\n"
     ]
    }
   ],
   "source": [
    "# LAMBDA with MAP\n",
    "\n",
    "# step1: DEFINE the LAMBDA function\n",
    "# step2: MAP the FUNCTION over the LIST\n",
    "# step3: return the results as a LIST\n",
    "\n",
    "\n",
    "# here we have 4 lists of 5 numbers\n",
    "numbers = [\n",
    "              [34, 63, 88, 71, 29],\n",
    "              [90, 78, 51, 27, 45],\n",
    "              [63, 37, 85, 46, 22],\n",
    "              [51, 22, 34, 11, 18]\n",
    "           ]\n",
    "\n",
    "\n",
    "mean_fn = lambda num_list: sum(num_list) / len(num_list)\n",
    "\n",
    "averages = list(map(mean_fn, numbers))\n",
    "\n",
    "print(\"average of each list: {}\".format(averages))"
   ]
  },
  {
   "cell_type": "markdown",
   "metadata": {},
   "source": [
    "### Filter\n",
    "- takes FUNCTION and an ITERABLE as inputs\n",
    "- returns values that are TRUE"
   ]
  },
  {
   "cell_type": "code",
   "execution_count": 46,
   "metadata": {},
   "outputs": [
    {
     "name": "stdout",
     "output_type": "stream",
     "text": [
      "['Chicago', 'Denver', 'Boston']\n"
     ]
    }
   ],
   "source": [
    "# LAMBDA with FILTER\n",
    "\n",
    "# step1: DEFINE the LAMBDA function\n",
    "# step2: FILTER the FUNCTION over the LIST\n",
    "# step3: return the results as a LIST\n",
    "\n",
    "cities = [\"New York City\", \"Los Angeles\", \"Chicago\", \"Mountain View\", \"Denver\", \"Boston\"]\n",
    "\n",
    "is_short = lambda name: len(name) < 10\n",
    "\n",
    "short_cities = list(filter(is_short, cities))\n",
    "\n",
    "print(short_cities)"
   ]
  },
  {
   "cell_type": "markdown",
   "metadata": {},
   "source": [
    "### Generator Functions\n",
    "- YIELD: returns an output one elemnent at a time, unlike RETURN\n",
    "- this can be very useful when wanting to output thinks in CHUNKS!"
   ]
  },
  {
   "cell_type": "code",
   "execution_count": 6,
   "metadata": {},
   "outputs": [
    {
     "name": "stdout",
     "output_type": "stream",
     "text": [
      "Lesson 1: Why Python Programming\n",
      "Lesson 2: Data Types and Operators\n",
      "Lesson 3: Control Flow\n",
      "Lesson 4: Functions\n",
      "Lesson 5: Scripting\n"
     ]
    }
   ],
   "source": [
    "# using YEILD to print the output a single line at a time\n",
    "\n",
    "lessons = [\"Why Python Programming\", \"Data Types and Operators\", \"Control Flow\", \"Functions\", \"Scripting\"]\n",
    "\n",
    "def my_enumerate(iterable, start=0):\n",
    "    count = start\n",
    "    for element in iterable:\n",
    "        yield count, element\n",
    "        count += 1\n",
    "\n",
    "for i, lesson in my_enumerate(lessons, 1):\n",
    "    print(\"Lesson {}: {}\".format(i, lesson))"
   ]
  },
  {
   "cell_type": "markdown",
   "metadata": {},
   "source": [
    "#### A CHUNKER"
   ]
  },
  {
   "cell_type": "code",
   "execution_count": 7,
   "metadata": {},
   "outputs": [
    {
     "name": "stdout",
     "output_type": "stream",
     "text": [
      "[0, 1, 2, 3]\n",
      "[4, 5, 6, 7]\n",
      "[8, 9, 10, 11]\n",
      "[12, 13, 14, 15]\n",
      "[16, 17, 18, 19]\n",
      "[20, 21, 22, 23]\n",
      "[24]\n"
     ]
    }
   ],
   "source": [
    "def chunker(iterable, size):\n",
    "    \"\"\"Yield successive chunks from iterable of length size.\"\"\"\n",
    "    for i in range(0, len(iterable), size):\n",
    "        yield iterable[i:i + size]\n",
    "\n",
    "\n",
    "for chunk in chunker(range(25), 4):\n",
    "    print(list(chunk))"
   ]
  },
  {
   "cell_type": "code",
   "execution_count": null,
   "metadata": {},
   "outputs": [],
   "source": []
  }
 ],
 "metadata": {
  "kernelspec": {
   "display_name": "Python 3",
   "language": "python",
   "name": "python3"
  },
  "language_info": {
   "codemirror_mode": {
    "name": "ipython",
    "version": 3
   },
   "file_extension": ".py",
   "mimetype": "text/x-python",
   "name": "python",
   "nbconvert_exporter": "python",
   "pygments_lexer": "ipython3",
   "version": "3.7.7"
  }
 },
 "nbformat": 4,
 "nbformat_minor": 4
}
