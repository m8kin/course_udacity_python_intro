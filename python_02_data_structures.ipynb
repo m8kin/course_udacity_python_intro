{
 "cells": [
  {
   "cell_type": "markdown",
   "metadata": {},
   "source": [
    "# DATA STRUCTURES"
   ]
  },
  {
   "cell_type": "markdown",
   "metadata": {},
   "source": [
    "are a way to organise data in python. kind of like data containers\n",
    " - lists (mutable, ordered (can use indicies) data structures)\n",
    " - tuples (immutable ordered sequences of elements)\n",
    " - sets (mutable unordered collections of unique elements)\n",
    " - dictionaries\n",
    " - compound"
   ]
  },
  {
   "cell_type": "markdown",
   "metadata": {},
   "source": [
    "### LISTS"
   ]
  },
  {
   "cell_type": "code",
   "execution_count": 20,
   "metadata": {},
   "outputs": [
    {
     "name": "stdout",
     "output_type": "stream",
     "text": [
      "[1, 3.4, 'a string', True]\n"
     ]
    }
   ],
   "source": [
    "# lISTS\n",
    "list_of_random_things = [1, 3.4, 'a string', True]\n",
    "print(list_of_random_things)"
   ]
  },
  {
   "cell_type": "code",
   "execution_count": 21,
   "metadata": {},
   "outputs": [
    {
     "name": "stdout",
     "output_type": "stream",
     "text": [
      "Element at Index 0: 1\n",
      "Element at Index 2: a string\n"
     ]
    }
   ],
   "source": [
    "# list have indicies reflecting each ELEMENT starting at [0]\n",
    "# this means they have an ORDER\n",
    "print(\"Element at Index 0:\", list_of_random_things[0])\n",
    "print(\"Element at Index 2:\", list_of_random_things[2])"
   ]
  },
  {
   "cell_type": "code",
   "execution_count": 4,
   "metadata": {},
   "outputs": [
    {
     "name": "stdout",
     "output_type": "stream",
     "text": [
      "Element at the last Index: True\n",
      "Element at the second last Index: a string\n"
     ]
    }
   ],
   "source": [
    "# Indicies also work from the end\n",
    "print(\"Element at the last Index:\", list_of_random_things[-1])\n",
    "print(\"Element at the second last Index:\", list_of_random_things[-2])"
   ]
  },
  {
   "cell_type": "code",
   "execution_count": 5,
   "metadata": {},
   "outputs": [
    {
     "name": "stdout",
     "output_type": "stream",
     "text": [
      "[3.4] only one element is returned\n",
      "[3.4, 'a string'] two elements are returned\n"
     ]
    }
   ],
   "source": [
    "# SLICING\n",
    "# the lower index is inclusive and the upper index is exclusive\n",
    "print(list_of_random_things[1:2], \"only one element is returned\")\n",
    "print(list_of_random_things[1:3], \"two elements are returned\")"
   ]
  },
  {
   "cell_type": "code",
   "execution_count": 6,
   "metadata": {},
   "outputs": [
    {
     "name": "stdout",
     "output_type": "stream",
     "text": [
      "[1, 3.4, 'a string'] elements up to third\n",
      "[3.4, 'a string', True] elements starting from second\n",
      "['a string', True] elements starting from second\n"
     ]
    }
   ],
   "source": [
    "# can also keep slicing open ended\n",
    "print(list_of_random_things[:3], \"elements up to third\")\n",
    "print(list_of_random_things[1:], \"elements starting from second\")\n",
    "print(list_of_random_things[-2:], \"elements starting from second last\")"
   ]
  },
  {
   "cell_type": "code",
   "execution_count": 37,
   "metadata": {},
   "outputs": [
    {
     "name": "stdout",
     "output_type": "stream",
     "text": [
      "True\n",
      "False\n",
      "True\n",
      "False\n"
     ]
    }
   ],
   "source": [
    "# in OR not in, returns a BOOLEAN\n",
    "print('this' in 'this is a string')\n",
    "print('that' in 'this is a string')\n",
    "print('that' not in 'this is a string')\n",
    "print(5 in [1, 2, 3, 4, 6])"
   ]
  },
  {
   "cell_type": "code",
   "execution_count": 8,
   "metadata": {},
   "outputs": [
    {
     "name": "stdout",
     "output_type": "stream",
     "text": [
      "['one', 2, 3, 4, 5]\n"
     ]
    }
   ],
   "source": [
    "# MUTABILITY\n",
    "# is about whether or not we can change an object once it has been created\n",
    "# if something is IMMUTABLE then it cannot be changed\n",
    "mutable_list = [1, 2, 3, 4, 5]\n",
    "\n",
    "# can assign new value to a LIST so it IS MUTABLE\n",
    "mutable_list[0] = 'one'\n",
    "print(mutable_list)"
   ]
  },
  {
   "cell_type": "code",
   "execution_count": 14,
   "metadata": {},
   "outputs": [
    {
     "name": "stdout",
     "output_type": "stream",
     "text": [
      "[1, 2, 3, 4, 5]\n",
      "['one', 2, 3, 4, 5]\n"
     ]
    }
   ],
   "source": [
    "# Because lists are mutable changing the value in it..\n",
    "# also changes the value everywhere\n",
    "mutable_list1 = [1, 2, 3, 4, 5]\n",
    "mutable_list2 = mutable_list1\n",
    "print(mutable_list2)\n",
    "\n",
    "# mutable_list2 is effected by changes to mutable_list\n",
    "mutable_list1[0] = 'one'\n",
    "print(mutable_list2)"
   ]
  },
  {
   "cell_type": "code",
   "execution_count": 31,
   "metadata": {},
   "outputs": [
    {
     "name": "stdout",
     "output_type": "stream",
     "text": [
      "length of list1 is 4\n",
      "min of list2 is 1\n",
      "max of list2 is 5\n",
      "sorted list2 is [1, 2, 3, 4, 5]\n"
     ]
    }
   ],
   "source": [
    "#LIST FUNCTIONS\n",
    "list1 = [1, 3.4, 'a string', True]\n",
    "list2 = [2, 1, 3, 5, 4]\n",
    "\n",
    "# length\n",
    "list1_length = len(list1)\n",
    "print(\"length of list1 is {}\".format(list1_length))\n",
    "\n",
    "# min\n",
    "list2_min = min(list2)\n",
    "print(\"min of list2 is {}\".format(list2_min))\n",
    "\n",
    "# max\n",
    "list2_max = max(list2)\n",
    "print(\"max of list2 is {}\".format(list2_max))\n",
    "\n",
    "# sorted\n",
    "list2_sorted = sorted(list2)\n",
    "print(\"sorted list2 is {}\".format(list2_sorted))\n"
   ]
  },
  {
   "cell_type": "code",
   "execution_count": 17,
   "metadata": {},
   "outputs": [
    {
     "name": "stdout",
     "output_type": "stream",
     "text": [
      "fore,aft,starboard,port\n",
      "fore-aft-starboard-port\n",
      "fore\n",
      "aft\n",
      "starboard\n",
      "port\n",
      "note, output here is a class str : <class 'str'>\n",
      "['a', 'b', 'c', 'd', 1]\n",
      "note, output here is a class list : <class 'list'>\n"
     ]
    }
   ],
   "source": [
    "#LIST METHODS\n",
    "\n",
    "# join (seperator first) then apply method with list as argument\n",
    "new_str = \",\".join([\"fore\", \"aft\", \"starboard\", \"port\"])\n",
    "print(new_str)\n",
    "new_str = \"-\".join([\"fore\", \"aft\", \"starboard\", \"port\"])\n",
    "print(new_str)\n",
    "new_str = \"\\n\".join([\"fore\", \"aft\", \"starboard\", \"port\"])\n",
    "print(new_str)\n",
    "print(\"note, output here is a :\" ,type(new_str))\n",
    "# append (appends to end of list)\n",
    "letters = ['a', 'b', 'c', 'd']\n",
    "letters.append(1)\n",
    "print(letters)\n",
    "print(\"note, output here is a :\" , type(letters))"
   ]
  },
  {
   "cell_type": "markdown",
   "metadata": {},
   "source": [
    "### TUPLES"
   ]
  },
  {
   "cell_type": "code",
   "execution_count": 24,
   "metadata": {},
   "outputs": [
    {
     "name": "stdout",
     "output_type": "stream",
     "text": [
      "Latitude: 13.4125\n",
      "Longitude: 103.866667\n"
     ]
    }
   ],
   "source": [
    "# TUPLES\n",
    "# asign 2 values to location, as they are ORDERED indices work\n",
    "location = 13.4125, 103.866667\n",
    "print(\"Latitude:\", location[0])\n",
    "print(\"Longitude:\", location[1])"
   ]
  },
  {
   "cell_type": "code",
   "execution_count": 25,
   "metadata": {},
   "outputs": [
    {
     "name": "stdout",
     "output_type": "stream",
     "text": [
      "The dimensions are 52 x 40 x 100\n"
     ]
    }
   ],
   "source": [
    "# tuples can be used to assign multiple variables\n",
    "# known as TUPLE UNPACKING\n",
    "dimensions = 52, 40, 100\n",
    "length, width, height = dimensions\n",
    "print(\"The dimensions are {} x {} x {}\".format(length, width, height))"
   ]
  },
  {
   "cell_type": "markdown",
   "metadata": {},
   "source": [
    "### SETS"
   ]
  },
  {
   "cell_type": "code",
   "execution_count": 30,
   "metadata": {},
   "outputs": [
    {
     "name": "stdout",
     "output_type": "stream",
     "text": [
      "{1, 2, 3, 6}\n",
      "{'MARK', 'mark', 'Mark'}\n"
     ]
    },
    {
     "ename": "TypeError",
     "evalue": "'set' object is not subscriptable",
     "output_type": "error",
     "traceback": [
      "\u001b[1;31m---------------------------------------------------------------------------\u001b[0m",
      "\u001b[1;31mTypeError\u001b[0m                                 Traceback (most recent call last)",
      "\u001b[1;32m<ipython-input-30-951529a0a224>\u001b[0m in \u001b[0;36m<module>\u001b[1;34m\u001b[0m\n\u001b[0;32m      8\u001b[0m \u001b[0munique_names\u001b[0m \u001b[1;33m=\u001b[0m \u001b[0mset\u001b[0m\u001b[1;33m(\u001b[0m\u001b[0mnames\u001b[0m\u001b[1;33m)\u001b[0m\u001b[1;33m\u001b[0m\u001b[1;33m\u001b[0m\u001b[0m\n\u001b[0;32m      9\u001b[0m \u001b[0mprint\u001b[0m\u001b[1;33m(\u001b[0m\u001b[0munique_names\u001b[0m\u001b[1;33m)\u001b[0m\u001b[1;33m\u001b[0m\u001b[1;33m\u001b[0m\u001b[0m\n\u001b[1;32m---> 10\u001b[1;33m \u001b[0mprint\u001b[0m\u001b[1;33m(\u001b[0m\u001b[0munique_names\u001b[0m\u001b[1;33m[\u001b[0m\u001b[1;36m0\u001b[0m\u001b[1;33m]\u001b[0m\u001b[1;33m)\u001b[0m \u001b[1;31m# error! as not ordered\u001b[0m\u001b[1;33m\u001b[0m\u001b[1;33m\u001b[0m\u001b[0m\n\u001b[0m",
      "\u001b[1;31mTypeError\u001b[0m: 'set' object is not subscriptable"
     ]
    }
   ],
   "source": [
    "# SETS\n",
    "# contain only UNIQUE elements\n",
    "numbers = [1, 2, 6, 3, 1, 1, 6]\n",
    "unique_nums = set(numbers)\n",
    "print(unique_nums)\n",
    "\n",
    "names = [\"Mark\", \"mark\", \"MARK\", \"Mark\", \"mark\", \"MARK\",\"Mark\", \"mark\", \"MARK\"]\n",
    "unique_names = set(names)\n",
    "print(unique_names)\n",
    "print(unique_names[0]) # error! as not ordered"
   ]
  },
  {
   "cell_type": "code",
   "execution_count": 33,
   "metadata": {},
   "outputs": [
    {
     "name": "stdout",
     "output_type": "stream",
     "text": [
      "False\n",
      "{'grapefruit', 'orange', 'banana', 'watermelon', 'apple'}\n",
      "grapefruit\n",
      "{'orange', 'banana', 'watermelon', 'apple'}\n"
     ]
    }
   ],
   "source": [
    "# sets support IN and NOT IN\n",
    "fruit = {\"apple\", \"banana\", \"orange\", \"grapefruit\"}\n",
    "print(\"watermelon\" in fruit)\n",
    "\n",
    "# and can add elements\n",
    "fruit.add(\"watermelon\") \n",
    "print(fruit)\n",
    "\n",
    "# remove a random element (popped out)\n",
    "print(fruit.pop()) \n",
    "print(fruit)"
   ]
  },
  {
   "cell_type": "code",
   "execution_count": null,
   "metadata": {},
   "outputs": [],
   "source": []
  }
 ],
 "metadata": {
  "kernelspec": {
   "display_name": "Python 3",
   "language": "python",
   "name": "python3"
  },
  "language_info": {
   "codemirror_mode": {
    "name": "ipython",
    "version": 3
   },
   "file_extension": ".py",
   "mimetype": "text/x-python",
   "name": "python",
   "nbconvert_exporter": "python",
   "pygments_lexer": "ipython3",
   "version": "3.7.3"
  }
 },
 "nbformat": 4,
 "nbformat_minor": 4
}
