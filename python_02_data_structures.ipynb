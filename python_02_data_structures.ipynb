{
 "cells": [
  {
   "cell_type": "markdown",
   "metadata": {},
   "source": [
    "# DATA STRUCTURES"
   ]
  },
  {
   "cell_type": "code",
   "execution_count": 2,
   "metadata": {},
   "outputs": [
    {
     "name": "stdout",
     "output_type": "stream",
     "text": [
      "[1, 3.4, 'a string', True]\n"
     ]
    }
   ],
   "source": [
    "# lISTS\n",
    "list_of_random_things = [1, 3.4, 'a string', True]\n",
    "print(list_of_random_things)"
   ]
  },
  {
   "cell_type": "code",
   "execution_count": 3,
   "metadata": {},
   "outputs": [
    {
     "name": "stdout",
     "output_type": "stream",
     "text": [
      "Element at Index 0: 1\n",
      "Element at Index 2: a string\n"
     ]
    }
   ],
   "source": [
    "# list have indicies reflecting each ELEMENT starting at [0]\n",
    "print(\"Element at Index 0:\", list_of_random_things[0])\n",
    "print(\"Element at Index 2:\", list_of_random_things[2])"
   ]
  },
  {
   "cell_type": "code",
   "execution_count": 4,
   "metadata": {},
   "outputs": [
    {
     "name": "stdout",
     "output_type": "stream",
     "text": [
      "Element at the last Index: True\n",
      "Element at the second last Index: a string\n"
     ]
    }
   ],
   "source": [
    "# Indicies also work from the end\n",
    "print(\"Element at the last Index:\", list_of_random_things[-1])\n",
    "print(\"Element at the second last Index:\", list_of_random_things[-2])"
   ]
  },
  {
   "cell_type": "code",
   "execution_count": 5,
   "metadata": {},
   "outputs": [
    {
     "name": "stdout",
     "output_type": "stream",
     "text": [
      "[3.4] only one element is returned\n",
      "[3.4, 'a string'] two elements are returned\n"
     ]
    }
   ],
   "source": [
    "# SLICING\n",
    "# the lower index is inclusive and the upper index is exclusive\n",
    "print(list_of_random_things[1:2], \"only one element is returned\")\n",
    "print(list_of_random_things[1:3], \"two elements are returned\")"
   ]
  },
  {
   "cell_type": "code",
   "execution_count": 6,
   "metadata": {},
   "outputs": [
    {
     "name": "stdout",
     "output_type": "stream",
     "text": [
      "[1, 3.4, 'a string'] elements up to third\n",
      "[3.4, 'a string', True] elements starting from second\n",
      "['a string', True] elements starting from second\n"
     ]
    }
   ],
   "source": [
    "# can also keep slicing open ended\n",
    "print(list_of_random_things[:3], \"elements up to third\")\n",
    "print(list_of_random_things[1:], \"elements starting from second\")\n",
    "print(list_of_random_things[-2:], \"elements starting from second last\")"
   ]
  },
  {
   "cell_type": "code",
   "execution_count": 37,
   "metadata": {},
   "outputs": [
    {
     "name": "stdout",
     "output_type": "stream",
     "text": [
      "True\n",
      "False\n",
      "True\n",
      "False\n"
     ]
    }
   ],
   "source": [
    "# in OR not in, returns a BOOLEAN\n",
    "print('this' in 'this is a string')\n",
    "print('that' in 'this is a string')\n",
    "print('that' not in 'this is a string')\n",
    "print(5 in [1, 2, 3, 4, 6])"
   ]
  },
  {
   "cell_type": "code",
   "execution_count": 8,
   "metadata": {},
   "outputs": [
    {
     "name": "stdout",
     "output_type": "stream",
     "text": [
      "['one', 2, 3, 4, 5]\n"
     ]
    }
   ],
   "source": [
    "# MUTABILITY\n",
    "# is about whether or not we can change an object once it has been created\n",
    "# if something is IMMUTABLE then it cannot be changed\n",
    "mutable_list = [1, 2, 3, 4, 5]\n",
    "\n",
    "# can assign new value to a LIST so it IS MUTABLE\n",
    "mutable_list[0] = 'one'\n",
    "print(mutable_list)"
   ]
  },
  {
   "cell_type": "code",
   "execution_count": 14,
   "metadata": {},
   "outputs": [
    {
     "name": "stdout",
     "output_type": "stream",
     "text": [
      "[1, 2, 3, 4, 5]\n",
      "['one', 2, 3, 4, 5]\n"
     ]
    }
   ],
   "source": [
    "# Because lists are mutable changing the value in it..\n",
    "# also changes the value everywhere\n",
    "mutable_list1 = [1, 2, 3, 4, 5]\n",
    "mutable_list2 = mutable_list1\n",
    "print(mutable_list2)\n",
    "\n",
    "# mutable_list2 is effected by changes to mutable_list\n",
    "mutable_list1[0] = 'one'\n",
    "print(mutable_list2)"
   ]
  },
  {
   "cell_type": "code",
   "execution_count": 31,
   "metadata": {},
   "outputs": [
    {
     "name": "stdout",
     "output_type": "stream",
     "text": [
      "length of list1 is 4\n",
      "min of list2 is 1\n",
      "max of list2 is 5\n",
      "sorted list2 is [1, 2, 3, 4, 5]\n"
     ]
    }
   ],
   "source": [
    "#LIST FUNCTIONS\n",
    "list1 = [1, 3.4, 'a string', True]\n",
    "list2 = [2, 1, 3, 5, 4]\n",
    "\n",
    "# length\n",
    "list1_length = len(list1)\n",
    "print(\"length of list1 is {}\".format(list1_length))\n",
    "\n",
    "# min\n",
    "list2_min = min(list2)\n",
    "print(\"min of list2 is {}\".format(list2_min))\n",
    "\n",
    "# max\n",
    "list2_max = max(list2)\n",
    "print(\"max of list2 is {}\".format(list2_max))\n",
    "\n",
    "# sorted\n",
    "list2_sorted = sorted(list2)\n",
    "print(\"sorted list2 is {}\".format(list2_sorted))\n"
   ]
  },
  {
   "cell_type": "code",
   "execution_count": null,
   "metadata": {},
   "outputs": [],
   "source": []
  }
 ],
 "metadata": {
  "kernelspec": {
   "display_name": "Python 3",
   "language": "python",
   "name": "python3"
  },
  "language_info": {
   "codemirror_mode": {
    "name": "ipython",
    "version": 3
   },
   "file_extension": ".py",
   "mimetype": "text/x-python",
   "name": "python",
   "nbconvert_exporter": "python",
   "pygments_lexer": "ipython3",
   "version": "3.7.3"
  }
 },
 "nbformat": 4,
 "nbformat_minor": 4
}
