{
 "cells": [
  {
   "cell_type": "markdown",
   "metadata": {},
   "source": [
    "# SCRIPTING\n",
    "\n",
    "- Interacting with User Input\n",
    "- Handling Exceptions\n",
    "- Reading and Writing Files\n",
    "- Importing Local, Standard, and Third-Party Modules\n",
    "- Experimenting with an Interpreter"
   ]
  },
  {
   "cell_type": "markdown",
   "metadata": {},
   "source": [
    "### TRY statements and error\n",
    "\n",
    "We can use try statements to handle exceptions. There are four clauses you can use"
   ]
  },
  {
   "cell_type": "code",
   "execution_count": 5,
   "metadata": {
    "scrolled": true
   },
   "outputs": [
    {
     "name": "stdout",
     "output_type": "stream",
     "text": [
      "Enter a number: ten\n"
     ]
    },
    {
     "ename": "ValueError",
     "evalue": "invalid literal for int() with base 10: 'ten'",
     "output_type": "error",
     "traceback": [
      "\u001b[1;31m---------------------------------------------------------------------------\u001b[0m",
      "\u001b[1;31mValueError\u001b[0m                                Traceback (most recent call last)",
      "\u001b[1;32m<ipython-input-5-3881563e76c5>\u001b[0m in \u001b[0;36m<module>\u001b[1;34m\u001b[0m\n\u001b[0;32m      1\u001b[0m \u001b[1;31m# ValueError: when inputing the word 'ten'\u001b[0m\u001b[1;33m\u001b[0m\u001b[1;33m\u001b[0m\u001b[1;33m\u001b[0m\u001b[0m\n\u001b[0;32m      2\u001b[0m \u001b[1;33m\u001b[0m\u001b[0m\n\u001b[1;32m----> 3\u001b[1;33m \u001b[0mx\u001b[0m \u001b[1;33m=\u001b[0m \u001b[0mint\u001b[0m\u001b[1;33m(\u001b[0m\u001b[0minput\u001b[0m\u001b[1;33m(\u001b[0m\u001b[1;34m\"Enter a number: \"\u001b[0m\u001b[1;33m)\u001b[0m\u001b[1;33m)\u001b[0m\u001b[1;33m\u001b[0m\u001b[1;33m\u001b[0m\u001b[0m\n\u001b[0m",
      "\u001b[1;31mValueError\u001b[0m: invalid literal for int() with base 10: 'ten'"
     ]
    }
   ],
   "source": [
    "# ValueError: when inputing the word 'ten'\n",
    "\n",
    "x = int(input(\"Enter a number: \"))"
   ]
  },
  {
   "cell_type": "code",
   "execution_count": 10,
   "metadata": {},
   "outputs": [
    {
     "name": "stdout",
     "output_type": "stream",
     "text": [
      "Enter a number: ten\n",
      "That is not a valid number, please use numeric values!\n"
     ]
    }
   ],
   "source": [
    "# TRY (input \"ten\")\n",
    "\n",
    "# step1: start with TRY:\n",
    "# step2: define some code to run\n",
    "# step3: EXCEPT and ERROR TYPE\n",
    "# step4: define some code to run if error is thrown\n",
    "\n",
    "try:\n",
    "    x = int(input(\"Enter a number: \"))\n",
    "    print(\"You're number is {}, good for yoy\".format(x))\n",
    "except ValueError:\n",
    "   print(\"That is not a valid number, please use numeric values!\")"
   ]
  },
  {
   "cell_type": "code",
   "execution_count": null,
   "metadata": {},
   "outputs": [],
   "source": [
    "# Can use try for multiple errors types\n",
    "\n",
    "# METHIOD 1 (handle all at once)\n",
    "try:\n",
    "    x = int(input(\"Enter a number: \"))\n",
    "    print(\"You're number is {}, good for you\".format(x))\n",
    "except (ValueError, KeyboardInterrupt):\n",
    "     print(\"There was an error!\")"
   ]
  },
  {
   "cell_type": "code",
   "execution_count": null,
   "metadata": {},
   "outputs": [],
   "source": [
    "# METHIOD 2 (handle independently)\n",
    "try:\n",
    "    x = int(input(\"Enter a number: \"))\n",
    "    print(\"You're number is {}, good for yoy\".format(x))\n",
    "except ValueError:\n",
    "     print(\"That is not a valid number, please use numeric values!\")\n",
    "except KeyboardInterrupt:\n",
    "     print(\"You bumped a naughty key on your keyboard\")"
   ]
  },
  {
   "cell_type": "code",
   "execution_count": 3,
   "metadata": {},
   "outputs": [
    {
     "name": "stdout",
     "output_type": "stream",
     "text": [
      "Enter a number: ten\n",
      "That is not a valid number, please use numeric values!\n",
      "\n",
      "Attempted Input\n",
      "Enter a number: eleven\n",
      "That is not a valid number, please use numeric values!\n",
      "\n",
      "Attempted Input\n",
      "Enter a number: 10\n",
      "\n",
      "You're number is 10, good for you\n",
      "\n",
      "Attempted Input\n"
     ]
    }
   ],
   "source": [
    "# Using WHILE TRUE will keep the user input open until a real input is valid!\n",
    "\n",
    "# step1: start with WHILE TRUE then colon\n",
    "# step2: TRY statement:\n",
    "# step3: conclude TRY with BREAK to end the while loop:\n",
    "# step4: define EXCEPT statement with or without the ERROR TYPE\n",
    "# step5: define some code to run if ERROR is thrown\n",
    "# step6: define a FINALLY statement if required (will always run after TRY and EXCEPT)\n",
    "\n",
    "while True:\n",
    "    try:\n",
    "        x = int(input(\"Enter a number: \"))\n",
    "        print(\"\\nYou're number is {}, good for you\".format(x))\n",
    "        break\n",
    "    except:\n",
    "        print(\"That is not a valid number, please use numeric values!\")     \n",
    "    finally:\n",
    "        print(\"\\nAttempted Input\\n\")"
   ]
  },
  {
   "cell_type": "markdown",
   "metadata": {},
   "source": [
    "### Accessing Error Messages\n",
    "\n",
    "rather than having an error message thrown you can print the error message in the EXCEPTION. this allows for the program to still run"
   ]
  },
  {
   "cell_type": "code",
   "execution_count": 7,
   "metadata": {},
   "outputs": [
    {
     "name": "stdout",
     "output_type": "stream",
     "text": [
      "Enter a number: 10\n",
      "You're number is 10, good for yoy\n"
     ]
    }
   ],
   "source": [
    "# Accessing Error Messages\n",
    "\n",
    "try:\n",
    "    x = int(input(\"Enter a number: \"))\n",
    "    print(\"You're number is {}, good for yoy\".format(x))\n",
    "except ValueError as message:\n",
    "   print(\"ValueError occurred: {}\".format(message))"
   ]
  },
  {
   "cell_type": "markdown",
   "metadata": {},
   "source": [
    "### Reading and Writing Files\n",
    "\n",
    "Accessing files from python\n",
    " - open\n",
    " - read\n",
    " - write\n",
    " - autoclose\n",
    " - STRIP and LINE BY LINE"
   ]
  },
  {
   "cell_type": "code",
   "execution_count": 32,
   "metadata": {},
   "outputs": [
    {
     "name": "stdout",
     "output_type": "stream",
     "text": [
      "object: <_io.TextIOWrapper name='files/file1.txt' mode='r' encoding='cp1252'>\n",
      "\n",
      "File Contents:\n",
      "\n",
      "Hello!!\n",
      "\n",
      "You've read the contents of this file!\n"
     ]
    }
   ],
   "source": [
    "# OPEN ('r' = read only) creates an object which python will use to interact with the file\n",
    "\n",
    "# step1: OPEN to set file path\n",
    "# step2: READ in the file to a VARIABLE\n",
    "# step3: CLOSE the file link\n",
    "# step4: use the file :)\n",
    "\n",
    "f = open('files/file1.txt', 'r')\n",
    "print(\"object: {}\".format(f))\n",
    "file_data = f.read()\n",
    "f.close()\n",
    "print(\"\\nFile Contents:\\n\\n\" + file_data)"
   ]
  },
  {
   "cell_type": "code",
   "execution_count": 33,
   "metadata": {},
   "outputs": [
    {
     "name": "stdout",
     "output_type": "stream",
     "text": [
      "Hello there!\n"
     ]
    }
   ],
   "source": [
    "# WRITE with OPEN ('w' = write)\n",
    "\n",
    "# step1: OPEN to set file path, if file doesn't exist python will create it\n",
    "# step2: WRITE into the file\n",
    "# step3: CLOSE the file link\n",
    "\n",
    "f = open('files/file2.txt', 'w')\n",
    "f.write(\"Hello there!\")\n",
    "f.close()\n",
    "\n",
    "f = open('files/file2.txt', 'r')\n",
    "file_data = f.read()\n",
    "f.close()\n",
    "print(file_data)"
   ]
  },
  {
   "cell_type": "code",
   "execution_count": 35,
   "metadata": {},
   "outputs": [
    {
     "name": "stdout",
     "output_type": "stream",
     "text": [
      "\n",
      "File Contents:\n",
      "\n",
      "Hello!!\n",
      "\n",
      "You've read the contents of this file!\n"
     ]
    }
   ],
   "source": [
    "# using WITH to autoclose\n",
    "\n",
    "# step1: start  WITH statement\n",
    "# step1: define OPEN to set file path and the \n",
    "# step2: READ in the file to a VARIABLE\n",
    "# step3: CLOSE the file link\n",
    "# step4: use the file :)\n",
    "\n",
    "with open('files/file1.txt', 'r') as f:\n",
    "    file_data2 = f.read()\n",
    "\n",
    "print(\"\\nFile Contents:\\n\\n\" + file_data2)"
   ]
  },
  {
   "cell_type": "markdown",
   "metadata": {},
   "source": [
    "### READ\n",
    "- INT argument\n",
    "- line by line and STRIP"
   ]
  },
  {
   "cell_type": "code",
   "execution_count": 41,
   "metadata": {},
   "outputs": [
    {
     "name": "stdout",
     "output_type": "stream",
     "text": [
      "We\n",
      "'re the \n",
      "knights of the round table\n",
      "We \n",
      "dance whenever we're able\n"
     ]
    }
   ],
   "source": [
    "# using READ with an INT ARGUMENT\n",
    "\n",
    "# the INT argument will READ up to that many characetrs and remeber where it left off\n",
    "\n",
    "with open(\"files/camelot.txt\") as song:\n",
    "    print(song.read(2))\n",
    "    print(song.read(8))\n",
    "    print(song.read(30))\n",
    "    print(song.read())"
   ]
  },
  {
   "cell_type": "code",
   "execution_count": 49,
   "metadata": {},
   "outputs": [
    {
     "name": "stdout",
     "output_type": "stream",
     "text": [
      "[\"We're the knights of the round table\", \"We dance whenever we're able\"]\n"
     ]
    }
   ],
   "source": [
    "# Reading Line by Line\n",
    "\n",
    "# python naturally LOOPS over each line\n",
    "# STRIP removes the \"\\n\" character\n",
    "\n",
    "camelot_lines = []\n",
    "\n",
    "with open(\"files/camelot.txt\") as f:\n",
    "    for line in f:\n",
    "        camelot_lines.append(line.strip())\n",
    "\n",
    "print(camelot_lines)"
   ]
  },
  {
   "cell_type": "code",
   "execution_count": 61,
   "metadata": {},
   "outputs": [
    {
     "name": "stdout",
     "output_type": "stream",
     "text": [
      "Graham Chapman\n",
      "Eric Idle\n",
      "Terry Jones\n",
      "Michael Palin\n",
      "Terry Gilliam\n",
      "John Cleese\n",
      "Carol Cleveland\n",
      "Ian Davidson\n",
      "John Hughman\n",
      "The Fred Tomlinson Singers\n",
      "Connie Booth\n",
      "Bob Raymond\n",
      "Lyn Ashley\n",
      "Rita Davies\n",
      "Stanley Mason\n",
      "David Ballantyne\n",
      "Donna Reading\n",
      "Peter Brett\n",
      "Maureen Flanagan\n",
      "Katya Wyeth\n",
      "Frank Lester\n",
      "Neil Innes\n",
      "Dick Vosburgh\n",
      "Sandra Richards\n",
      "Julia Breck\n",
      "Nicki Howorth\n",
      "Jimmy Hill\n",
      "Barry Cryer\n",
      "Jeannette Wild\n",
      "Marjorie Wilde\n",
      "Marie Anderson\n",
      "Caron Gardner\n",
      "Nosher Powell\n",
      "Carolae Donoghue\n",
      "Vincent Wong\n",
      "Helena Clayton\n",
      "Nigel Jones\n",
      "Roy Gunson\n",
      "Daphne Davey\n",
      "Stenson Falke\n",
      "Alexander Curry\n",
      "Frank Williams\n",
      "Ralph Wood\n",
      "Rosalind Bailey\n",
      "Marion Mould\n",
      "Sheila Sands\n",
      "Richard Baker\n",
      "Douglas Adams\n",
      "Ewa Aulin\n",
      "Reginald Bosanquet\n",
      "Barbara Lindley\n",
      "Roy Brent\n",
      "Jonas Card\n",
      "Tony Christopher\n",
      "Beulah Hughes\n",
      "Peter Kodak\n",
      "Lulu\n",
      "Jay Neill\n",
      "Graham Skidmore\n",
      "Ringo Starr\n",
      "Fred Tomlinson\n",
      "David Hamilton\n",
      "Suzy Mandel\n",
      "Peter Woods\n"
     ]
    }
   ],
   "source": [
    "# EXAMPLE with FUNCTION\n",
    "# print each name of the cast in flying circus\n",
    "\n",
    "def create_cast_list(filename):\n",
    "    cast_list = []\n",
    "    with open(filename) as f:\n",
    "        for line in f:\n",
    "            cast_list.append(line.split(',')[0])\n",
    "\n",
    "    return cast_list\n",
    "\n",
    "cast_list = create_cast_list('files/flying_circus.txt')\n",
    "for actor in cast_list:\n",
    "    print(actor)"
   ]
  },
  {
   "cell_type": "markdown",
   "metadata": {},
   "source": [
    "### IMPORTING SCRIPTS\n",
    "\n",
    "- If the Python script you want to IMPORT is in the same directory as your current script, you just type IMPORT followed by the name of the file, without the .py extension.\n",
    "- IMPORT statement creates a MODULE which are just python files that contain DEFINITIONS and STATEMENTS\n",
    "- to access OBJECT from an imported module, you need to use dot notation: \n",
    "    - module.functionname()\n",
    "    - and alias can be added to an imported module (import module as m)"
   ]
  },
  {
   "cell_type": "code",
   "execution_count": 37,
   "metadata": {},
   "outputs": [
    {
     "name": "stdout",
     "output_type": "stream",
     "text": [
      "Scores: [88, 92, 79, 93, 85]\n",
      "Original Mean: 87.4  New Mean: 92.4\n"
     ]
    }
   ],
   "source": [
    "import useful_functions as uf\n",
    "\n",
    "scores = [88, 92, 79, 93, 85]\n",
    "\n",
    "mean = uf.mean(scores)\n",
    "curved = uf.add_five(scores)\n",
    "\n",
    "mean_c = uf.mean(curved)\n",
    "\n",
    "print(\"Scores:\", scores)\n",
    "print(\"Original Mean:\", mean, \" New Mean:\", mean_c)"
   ]
  },
  {
   "cell_type": "code",
   "execution_count": 40,
   "metadata": {},
   "outputs": [
    {
     "data": {
      "text/plain": [
       "['__builtins__',\n",
       " '__cached__',\n",
       " '__doc__',\n",
       " '__file__',\n",
       " '__loader__',\n",
       " '__name__',\n",
       " '__package__',\n",
       " '__spec__',\n",
       " 'add_five',\n",
       " 'main',\n",
       " 'mean']"
      ]
     },
     "execution_count": 40,
     "metadata": {},
     "output_type": "execute_result"
    }
   ],
   "source": [
    "# to view what FUNCTIONS are in a MODULE\n",
    "dir(uf)"
   ]
  },
  {
   "cell_type": "markdown",
   "metadata": {},
   "source": [
    "#### MAIN BLOCK\n",
    "- main()\n",
    "- assert()\n",
    "- _ _ name _ _ = namepsace\n",
    "\n",
    "#### TESTS\n",
    "- test should be written inside an IF NAME block of code\n",
    "- this means the run when the script is RUN but not when a MODULE is IMPORTED"
   ]
  },
  {
   "cell_type": "code",
   "execution_count": 56,
   "metadata": {},
   "outputs": [
    {
     "data": {
      "text/plain": [
       "'useful_functions'"
      ]
     },
     "execution_count": 56,
     "metadata": {},
     "output_type": "execute_result"
    }
   ],
   "source": [
    "# the NAMESPACE for uf is USEFUL_FUNCTIONS\n",
    "uf.__name__"
   ]
  },
  {
   "cell_type": "code",
   "execution_count": 59,
   "metadata": {},
   "outputs": [
    {
     "data": {
      "text/plain": [
       "'__main__'"
      ]
     },
     "execution_count": 59,
     "metadata": {},
     "output_type": "execute_result"
    }
   ],
   "source": [
    "# the DEFAULT name is MAIN, hence this is the EXECUTABLE part of an python file\n",
    "__name__"
   ]
  },
  {
   "cell_type": "code",
   "execution_count": 49,
   "metadata": {},
   "outputs": [
    {
     "name": "stdout",
     "output_type": "stream",
     "text": [
      "Testing mean function\n",
      "Testing add_five function\n",
      "All tests passed!\n"
     ]
    }
   ],
   "source": [
    "uf.main()"
   ]
  },
  {
   "cell_type": "code",
   "execution_count": 52,
   "metadata": {},
   "outputs": [
    {
     "name": "stdout",
     "output_type": "stream",
     "text": [
      "Testing mean function\n",
      "Testing add_five function\n",
      "All tests passed!\n"
     ]
    }
   ],
   "source": [
    "!python useful_functions.py"
   ]
  },
  {
   "cell_type": "markdown",
   "metadata": {},
   "source": [
    "### THE PYTHON STANDARD LIBRARY\n",
    "useful modules and functions that come standard with python\n",
    "\n",
    "https://docs.python.org/3/library/"
   ]
  },
  {
   "cell_type": "markdown",
   "metadata": {},
   "source": [
    "### IMPORT VARIANTS\n",
    "There are other variants of import statements that are useful in different situations."
   ]
  },
  {
   "cell_type": "code",
   "execution_count": 81,
   "metadata": {},
   "outputs": [],
   "source": [
    "#To import an individual function or class from a module:\n",
    "from math import exp\n",
    "\n",
    "#To import multiple individual objects from a module:\n",
    "from math import exp, log\n",
    "\n",
    "#To rename a module with an alias:\n",
    "import math as tham\n",
    "\n",
    "#To import an object from a module and rename it:\n",
    "from math import exp as math_exp\n",
    "\n",
    "#To use all of the objects from a module, access each of the objects with the dot notation.\n",
    "import math"
   ]
  },
  {
   "cell_type": "markdown",
   "metadata": {},
   "source": [
    "### Third-Party Libraries\n",
    "there are thousands of third party libraries\n",
    "\n",
    "requirements.txt\n",
    "- file used to store dependencies\n",
    "- can be used \"pip install -r requirements.txt\"\n",
    "\n",
    "\n"
   ]
  }
 ],
 "metadata": {
  "kernelspec": {
   "display_name": "Python 3",
   "language": "python",
   "name": "python3"
  },
  "language_info": {
   "codemirror_mode": {
    "name": "ipython",
    "version": 3
   },
   "file_extension": ".py",
   "mimetype": "text/x-python",
   "name": "python",
   "nbconvert_exporter": "python",
   "pygments_lexer": "ipython3",
   "version": "3.7.7"
  }
 },
 "nbformat": 4,
 "nbformat_minor": 4
}
